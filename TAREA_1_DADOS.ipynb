{
  "nbformat": 4,
  "nbformat_minor": 0,
  "metadata": {
    "colab": {
      "provenance": []
    },
    "kernelspec": {
      "name": "python3",
      "display_name": "Python 3"
    },
    "language_info": {
      "name": "python"
    }
  },
  "cells": [
    {
      "cell_type": "code",
      "execution_count": null,
      "metadata": {
        "id": "0Xa0zXclaMy6"
      },
      "outputs": [],
      "source": [
        "from itertools import product\n",
        "Omega=set(product([1,2,3,4,5,6], repeat=2))\n",
        "Omega\n"
      ]
    },
    {
      "cell_type": "code",
      "source": [
        "E={omega for omega in Omega if omega[0] + omega[1]==2 }\n",
        "E"
      ],
      "metadata": {
        "colab": {
          "base_uri": "https://localhost:8080/"
        },
        "id": "N2iwjqJwag21",
        "outputId": "551f3f7b-cfaf-42ab-92e9-76b9d3bb4478"
      },
      "execution_count": null,
      "outputs": [
        {
          "output_type": "execute_result",
          "data": {
            "text/plain": [
              "{(1, 1)}"
            ]
          },
          "metadata": {},
          "execution_count": 5
        }
      ]
    },
    {
      "cell_type": "markdown",
      "source": [
        "#PROBABILIDAD DE QUE LA SUMA DE LOS DADOS SEA 2"
      ],
      "metadata": {
        "id": "Ig5PuYx-cOQm"
      }
    },
    {
      "cell_type": "code",
      "source": [
        "Suma_2= len(E)/len(Omega)\n",
        "Suma_2"
      ],
      "metadata": {
        "colab": {
          "base_uri": "https://localhost:8080/"
        },
        "id": "NZI1t2I2cAoP",
        "outputId": "d5f6c72e-f3a5-47dd-bed0-6f4aa82f2b8d"
      },
      "execution_count": null,
      "outputs": [
        {
          "output_type": "execute_result",
          "data": {
            "text/plain": [
              "0.027777777777777776"
            ]
          },
          "metadata": {},
          "execution_count": 15
        }
      ]
    },
    {
      "cell_type": "code",
      "source": [
        "F={omega for omega in Omega if omega[0] + omega[1]==7 }\n",
        "F"
      ],
      "metadata": {
        "colab": {
          "base_uri": "https://localhost:8080/"
        },
        "id": "j7WQ-msecYAk",
        "outputId": "d42bf35e-e366-4f2a-856e-3c6429fb65a5"
      },
      "execution_count": null,
      "outputs": [
        {
          "output_type": "execute_result",
          "data": {
            "text/plain": [
              "{(1, 6), (2, 5), (3, 4), (4, 3), (5, 2), (6, 1)}"
            ]
          },
          "metadata": {},
          "execution_count": 8
        }
      ]
    },
    {
      "cell_type": "markdown",
      "source": [
        "#PROBABILIDAD DE QUE LA SUMA DE LOS DADOS SEA 7"
      ],
      "metadata": {
        "id": "fAIr1oYpclVA"
      }
    },
    {
      "cell_type": "code",
      "source": [
        "Suma_7= len(F)/len(Omega)\n",
        "Suma_7"
      ],
      "metadata": {
        "colab": {
          "base_uri": "https://localhost:8080/"
        },
        "id": "wmpZiXQIcfLX",
        "outputId": "c1f70d16-9f1b-46e0-857b-9c0f8a3dffcc"
      },
      "execution_count": null,
      "outputs": [
        {
          "output_type": "execute_result",
          "data": {
            "text/plain": [
              "0.16666666666666666"
            ]
          },
          "metadata": {},
          "execution_count": 16
        }
      ]
    },
    {
      "cell_type": "code",
      "source": [
        "G={omega for omega in Omega if omega[0] - omega[1]==1 }\n",
        "G"
      ],
      "metadata": {
        "colab": {
          "base_uri": "https://localhost:8080/"
        },
        "id": "O_4wz5H1cvRL",
        "outputId": "1e4b2edf-29d8-4e29-e10f-980b41d80182"
      },
      "execution_count": null,
      "outputs": [
        {
          "output_type": "execute_result",
          "data": {
            "text/plain": [
              "{(2, 1), (3, 2), (4, 3), (5, 4), (6, 5)}"
            ]
          },
          "metadata": {},
          "execution_count": 12
        }
      ]
    },
    {
      "cell_type": "markdown",
      "source": [
        "#PROBABILIDAD DE QUE LA RESTA DE LOS DADOS SEA 1"
      ],
      "metadata": {
        "id": "jZCWOrBYc1z8"
      }
    },
    {
      "cell_type": "code",
      "source": [
        "Resta_1= len(G)/len(Omega)\n",
        "Resta_1"
      ],
      "metadata": {
        "colab": {
          "base_uri": "https://localhost:8080/"
        },
        "id": "21h149wpc6wk",
        "outputId": "d5dec258-7b1a-4100-c661-62d88d8755c1"
      },
      "execution_count": null,
      "outputs": [
        {
          "output_type": "execute_result",
          "data": {
            "text/plain": [
              "0.1388888888888889"
            ]
          },
          "metadata": {},
          "execution_count": 14
        }
      ]
    },
    {
      "cell_type": "code",
      "source": [
        "probabilidades={\"Suma 7\":[Suma_7],\n",
        "                \"Suma 2\":[Suma_2],\n",
        "                \"Resta 1\": [Resta_1]}"
      ],
      "metadata": {
        "id": "n4BIjx7Fd_Pw"
      },
      "execution_count": null,
      "outputs": []
    },
    {
      "cell_type": "markdown",
      "source": [
        "#DATAFRAME DE PROBABILIDADES"
      ],
      "metadata": {
        "id": "x_WgyZLCv8XC"
      }
    },
    {
      "cell_type": "code",
      "source": [
        "import pandas as pd\n",
        "index = [\"Probabilidad\"]\n",
        "dfprobabilidades= pd.DataFrame(probabilidades, index=index)\n",
        "dfprobabilidades"
      ],
      "metadata": {
        "colab": {
          "base_uri": "https://localhost:8080/",
          "height": 81
        },
        "id": "0I2YpGGSdX2A",
        "outputId": "3f10c904-b157-4559-be37-021e16080305"
      },
      "execution_count": null,
      "outputs": [
        {
          "output_type": "execute_result",
          "data": {
            "text/plain": [
              "                Suma 7    Suma 2   Resta 1\n",
              "Probabilidad  0.166667  0.027778  0.138889"
            ],
            "text/html": [
              "\n",
              "  <div id=\"df-df39217a-9586-42cd-81f3-63d754c0351d\">\n",
              "    <div class=\"colab-df-container\">\n",
              "      <div>\n",
              "<style scoped>\n",
              "    .dataframe tbody tr th:only-of-type {\n",
              "        vertical-align: middle;\n",
              "    }\n",
              "\n",
              "    .dataframe tbody tr th {\n",
              "        vertical-align: top;\n",
              "    }\n",
              "\n",
              "    .dataframe thead th {\n",
              "        text-align: right;\n",
              "    }\n",
              "</style>\n",
              "<table border=\"1\" class=\"dataframe\">\n",
              "  <thead>\n",
              "    <tr style=\"text-align: right;\">\n",
              "      <th></th>\n",
              "      <th>Suma 7</th>\n",
              "      <th>Suma 2</th>\n",
              "      <th>Resta 1</th>\n",
              "    </tr>\n",
              "  </thead>\n",
              "  <tbody>\n",
              "    <tr>\n",
              "      <th>Probabilidad</th>\n",
              "      <td>0.166667</td>\n",
              "      <td>0.027778</td>\n",
              "      <td>0.138889</td>\n",
              "    </tr>\n",
              "  </tbody>\n",
              "</table>\n",
              "</div>\n",
              "      <button class=\"colab-df-convert\" onclick=\"convertToInteractive('df-df39217a-9586-42cd-81f3-63d754c0351d')\"\n",
              "              title=\"Convert this dataframe to an interactive table.\"\n",
              "              style=\"display:none;\">\n",
              "        \n",
              "  <svg xmlns=\"http://www.w3.org/2000/svg\" height=\"24px\"viewBox=\"0 0 24 24\"\n",
              "       width=\"24px\">\n",
              "    <path d=\"M0 0h24v24H0V0z\" fill=\"none\"/>\n",
              "    <path d=\"M18.56 5.44l.94 2.06.94-2.06 2.06-.94-2.06-.94-.94-2.06-.94 2.06-2.06.94zm-11 1L8.5 8.5l.94-2.06 2.06-.94-2.06-.94L8.5 2.5l-.94 2.06-2.06.94zm10 10l.94 2.06.94-2.06 2.06-.94-2.06-.94-.94-2.06-.94 2.06-2.06.94z\"/><path d=\"M17.41 7.96l-1.37-1.37c-.4-.4-.92-.59-1.43-.59-.52 0-1.04.2-1.43.59L10.3 9.45l-7.72 7.72c-.78.78-.78 2.05 0 2.83L4 21.41c.39.39.9.59 1.41.59.51 0 1.02-.2 1.41-.59l7.78-7.78 2.81-2.81c.8-.78.8-2.07 0-2.86zM5.41 20L4 18.59l7.72-7.72 1.47 1.35L5.41 20z\"/>\n",
              "  </svg>\n",
              "      </button>\n",
              "      \n",
              "  <style>\n",
              "    .colab-df-container {\n",
              "      display:flex;\n",
              "      flex-wrap:wrap;\n",
              "      gap: 12px;\n",
              "    }\n",
              "\n",
              "    .colab-df-convert {\n",
              "      background-color: #E8F0FE;\n",
              "      border: none;\n",
              "      border-radius: 50%;\n",
              "      cursor: pointer;\n",
              "      display: none;\n",
              "      fill: #1967D2;\n",
              "      height: 32px;\n",
              "      padding: 0 0 0 0;\n",
              "      width: 32px;\n",
              "    }\n",
              "\n",
              "    .colab-df-convert:hover {\n",
              "      background-color: #E2EBFA;\n",
              "      box-shadow: 0px 1px 2px rgba(60, 64, 67, 0.3), 0px 1px 3px 1px rgba(60, 64, 67, 0.15);\n",
              "      fill: #174EA6;\n",
              "    }\n",
              "\n",
              "    [theme=dark] .colab-df-convert {\n",
              "      background-color: #3B4455;\n",
              "      fill: #D2E3FC;\n",
              "    }\n",
              "\n",
              "    [theme=dark] .colab-df-convert:hover {\n",
              "      background-color: #434B5C;\n",
              "      box-shadow: 0px 1px 3px 1px rgba(0, 0, 0, 0.15);\n",
              "      filter: drop-shadow(0px 1px 2px rgba(0, 0, 0, 0.3));\n",
              "      fill: #FFFFFF;\n",
              "    }\n",
              "  </style>\n",
              "\n",
              "      <script>\n",
              "        const buttonEl =\n",
              "          document.querySelector('#df-df39217a-9586-42cd-81f3-63d754c0351d button.colab-df-convert');\n",
              "        buttonEl.style.display =\n",
              "          google.colab.kernel.accessAllowed ? 'block' : 'none';\n",
              "\n",
              "        async function convertToInteractive(key) {\n",
              "          const element = document.querySelector('#df-df39217a-9586-42cd-81f3-63d754c0351d');\n",
              "          const dataTable =\n",
              "            await google.colab.kernel.invokeFunction('convertToInteractive',\n",
              "                                                     [key], {});\n",
              "          if (!dataTable) return;\n",
              "\n",
              "          const docLinkHtml = 'Like what you see? Visit the ' +\n",
              "            '<a target=\"_blank\" href=https://colab.research.google.com/notebooks/data_table.ipynb>data table notebook</a>'\n",
              "            + ' to learn more about interactive tables.';\n",
              "          element.innerHTML = '';\n",
              "          dataTable['output_type'] = 'display_data';\n",
              "          await google.colab.output.renderOutput(dataTable, element);\n",
              "          const docLink = document.createElement('div');\n",
              "          docLink.innerHTML = docLinkHtml;\n",
              "          element.appendChild(docLink);\n",
              "        }\n",
              "      </script>\n",
              "    </div>\n",
              "  </div>\n",
              "  "
            ]
          },
          "metadata": {},
          "execution_count": 19
        }
      ]
    },
    {
      "cell_type": "markdown",
      "source": [
        "Experimento aleatorio: Se lanzan dos dados honestos.\n",
        "1.- Describir al espacio muestral."
      ],
      "metadata": {
        "id": "Y-ysyTXxeoSy"
      }
    },
    {
      "cell_type": "code",
      "source": [
        "from itertools import product\n",
        "Omega=set(product([1,2,3,4,5,6], repeat=2))\n",
        "Omega"
      ],
      "metadata": {
        "id": "Pe8JF2vMe0tD"
      },
      "execution_count": null,
      "outputs": []
    },
    {
      "cell_type": "markdown",
      "source": [
        "2.- Considere el evento S(n): la suma de las caras de los dados es n."
      ],
      "metadata": {
        "id": "jDw-wbx7tx3C"
      }
    },
    {
      "cell_type": "code",
      "source": [
        "def S(n):\n",
        "  Sn= [(a,b) for a in range(1,7) for b in range (1,7) if a + b == n]\n",
        "  return Sn"
      ],
      "metadata": {
        "id": "RytUhv8Y6u9a"
      },
      "execution_count": null,
      "outputs": []
    },
    {
      "cell_type": "markdown",
      "source": [
        "3.- Calcular S(2) hasta S(12) y poner los datos en un DataFrame en Pandas."
      ],
      "metadata": {
        "id": "u-rZ48pRuBJ_"
      }
    },
    {
      "cell_type": "code",
      "source": [
        "s2= S(2)\n",
        "s2"
      ],
      "metadata": {
        "colab": {
          "base_uri": "https://localhost:8080/"
        },
        "id": "nnJsUXftrB8T",
        "outputId": "c565810b-c80b-4763-ff1e-5828a041d9e0"
      },
      "execution_count": null,
      "outputs": [
        {
          "output_type": "execute_result",
          "data": {
            "text/plain": [
              "[(1, 1)]"
            ]
          },
          "metadata": {},
          "execution_count": 41
        }
      ]
    },
    {
      "cell_type": "code",
      "source": [
        "s3=S(3)\n",
        "s3"
      ],
      "metadata": {
        "colab": {
          "base_uri": "https://localhost:8080/"
        },
        "id": "DOMoiUJArFX0",
        "outputId": "a47012e8-8caa-440f-9c79-5aa59763b65d"
      },
      "execution_count": null,
      "outputs": [
        {
          "output_type": "execute_result",
          "data": {
            "text/plain": [
              "[(1, 2), (2, 1)]"
            ]
          },
          "metadata": {},
          "execution_count": 42
        }
      ]
    },
    {
      "cell_type": "code",
      "source": [
        "s4=S(4)\n",
        "s4"
      ],
      "metadata": {
        "colab": {
          "base_uri": "https://localhost:8080/"
        },
        "id": "mtXl2NfrrIBv",
        "outputId": "f973d85e-67e0-4bb9-93bd-d3f592501a82"
      },
      "execution_count": null,
      "outputs": [
        {
          "output_type": "execute_result",
          "data": {
            "text/plain": [
              "[(1, 3), (2, 2), (3, 1)]"
            ]
          },
          "metadata": {},
          "execution_count": 43
        }
      ]
    },
    {
      "cell_type": "code",
      "source": [
        "s5=S(5)\n",
        "s5"
      ],
      "metadata": {
        "colab": {
          "base_uri": "https://localhost:8080/"
        },
        "id": "abGoZ9N_rJBh",
        "outputId": "2fba1627-e358-45b3-f4cb-76980f7f95c2"
      },
      "execution_count": null,
      "outputs": [
        {
          "output_type": "execute_result",
          "data": {
            "text/plain": [
              "[(1, 4), (2, 3), (3, 2), (4, 1)]"
            ]
          },
          "metadata": {},
          "execution_count": 44
        }
      ]
    },
    {
      "cell_type": "code",
      "source": [
        "s6=S(6)\n",
        "s6"
      ],
      "metadata": {
        "colab": {
          "base_uri": "https://localhost:8080/"
        },
        "id": "1CLvH_p6rMdc",
        "outputId": "8b149322-924f-4a6b-c109-ff0d9b327eb4"
      },
      "execution_count": null,
      "outputs": [
        {
          "output_type": "execute_result",
          "data": {
            "text/plain": [
              "[(1, 5), (2, 4), (3, 3), (4, 2), (5, 1)]"
            ]
          },
          "metadata": {},
          "execution_count": 45
        }
      ]
    },
    {
      "cell_type": "code",
      "source": [
        "s7=S(7)\n",
        "s7"
      ],
      "metadata": {
        "colab": {
          "base_uri": "https://localhost:8080/"
        },
        "id": "M0UuvUXJrNmE",
        "outputId": "5fe0aa83-0237-4466-90ff-75223e35749a"
      },
      "execution_count": null,
      "outputs": [
        {
          "output_type": "execute_result",
          "data": {
            "text/plain": [
              "[(1, 6), (2, 5), (3, 4), (4, 3), (5, 2), (6, 1)]"
            ]
          },
          "metadata": {},
          "execution_count": 46
        }
      ]
    },
    {
      "cell_type": "code",
      "source": [
        "s8=S(8)\n",
        "s8"
      ],
      "metadata": {
        "colab": {
          "base_uri": "https://localhost:8080/"
        },
        "id": "laMOa7h0rPXv",
        "outputId": "6f45c256-1a92-4703-d421-6b0f60173335"
      },
      "execution_count": null,
      "outputs": [
        {
          "output_type": "execute_result",
          "data": {
            "text/plain": [
              "[(2, 6), (3, 5), (4, 4), (5, 3), (6, 2)]"
            ]
          },
          "metadata": {},
          "execution_count": 47
        }
      ]
    },
    {
      "cell_type": "code",
      "source": [
        "s9=S(9)\n",
        "s9"
      ],
      "metadata": {
        "colab": {
          "base_uri": "https://localhost:8080/"
        },
        "id": "PPSC2W4XrQWw",
        "outputId": "0609d826-bea6-4189-85bf-847a475653ab"
      },
      "execution_count": null,
      "outputs": [
        {
          "output_type": "execute_result",
          "data": {
            "text/plain": [
              "[(3, 6), (4, 5), (5, 4), (6, 3)]"
            ]
          },
          "metadata": {},
          "execution_count": 48
        }
      ]
    },
    {
      "cell_type": "code",
      "source": [
        "s10=S(10)\n",
        "s10"
      ],
      "metadata": {
        "colab": {
          "base_uri": "https://localhost:8080/"
        },
        "id": "QZWx3OtgrRVJ",
        "outputId": "1438d5c7-d9b6-42b3-9dd3-371f7cebc39f"
      },
      "execution_count": null,
      "outputs": [
        {
          "output_type": "execute_result",
          "data": {
            "text/plain": [
              "[(4, 6), (5, 5), (6, 4)]"
            ]
          },
          "metadata": {},
          "execution_count": 49
        }
      ]
    },
    {
      "cell_type": "code",
      "source": [
        "s11=S(11)\n",
        "s11"
      ],
      "metadata": {
        "colab": {
          "base_uri": "https://localhost:8080/"
        },
        "id": "SW_B1eE_rSLA",
        "outputId": "c3bae31e-d9db-48c2-9f0c-9c95927d18e7"
      },
      "execution_count": null,
      "outputs": [
        {
          "output_type": "execute_result",
          "data": {
            "text/plain": [
              "[(5, 6), (6, 5)]"
            ]
          },
          "metadata": {},
          "execution_count": 50
        }
      ]
    },
    {
      "cell_type": "code",
      "source": [
        "s12=S(12)\n",
        "s12"
      ],
      "metadata": {
        "colab": {
          "base_uri": "https://localhost:8080/"
        },
        "id": "p1tMmA74rTFu",
        "outputId": "4e5ea195-a435-432f-8f98-ea4a3b30066f"
      },
      "execution_count": null,
      "outputs": [
        {
          "output_type": "execute_result",
          "data": {
            "text/plain": [
              "[(6, 6)]"
            ]
          },
          "metadata": {},
          "execution_count": 51
        }
      ]
    },
    {
      "cell_type": "code",
      "source": [
        "Tabla={\"Suma 2\": [s2],\n",
        "       \"Suma 3\": [s3],\n",
        "       \"Suma 4\": [s4],\n",
        "       \"Suma 5\": [s5],\n",
        "       \"Suma 6\": [s6],\n",
        "       \"Suma 7\": [s7],\n",
        "       \"Suma 8\": [s8],\n",
        "       \"Suma 9\": [s9],\n",
        "       \"Suma 10\": [s10],\n",
        "       \"Suma 11\": [s11],\n",
        "       \"Suma 12\": [s12]}\n",
        "Tabla"
      ],
      "metadata": {
        "colab": {
          "base_uri": "https://localhost:8080/"
        },
        "id": "mjt__FoksN_i",
        "outputId": "9aef1507-b798-4b74-e504-620ba567d493"
      },
      "execution_count": null,
      "outputs": [
        {
          "output_type": "execute_result",
          "data": {
            "text/plain": [
              "{'Suma 2': [[(1, 1)]],\n",
              " 'Suma 3': [[(1, 2), (2, 1)]],\n",
              " 'Suma 4': [[(1, 3), (2, 2), (3, 1)]],\n",
              " 'Suma 5': [[(1, 4), (2, 3), (3, 2), (4, 1)]],\n",
              " 'Suma 6': [[(1, 5), (2, 4), (3, 3), (4, 2), (5, 1)]],\n",
              " 'Suma 7': [[(1, 6), (2, 5), (3, 4), (4, 3), (5, 2), (6, 1)]],\n",
              " 'Suma 8': [[(2, 6), (3, 5), (4, 4), (5, 3), (6, 2)]],\n",
              " 'Suma 9': [[(3, 6), (4, 5), (5, 4), (6, 3)]],\n",
              " 'Suma 10': [[(4, 6), (5, 5), (6, 4)]],\n",
              " 'Suma 11': [[(5, 6), (6, 5)]],\n",
              " 'Suma 12': [[(6, 6)]]}"
            ]
          },
          "metadata": {},
          "execution_count": 53
        }
      ]
    },
    {
      "cell_type": "code",
      "source": [
        "import pandas as pd\n",
        "index =\"Valores\"\n",
        "dfdados=pd.DataFrame(Tabla,index=[index])\n",
        "dfdados"
      ],
      "metadata": {
        "colab": {
          "base_uri": "https://localhost:8080/",
          "height": 159
        },
        "id": "UqnVDMs2rgkX",
        "outputId": "fd842223-75c6-4aff-f6c6-7bbb5007bb4e"
      },
      "execution_count": null,
      "outputs": [
        {
          "output_type": "execute_result",
          "data": {
            "text/plain": [
              "           Suma 2            Suma 3                    Suma 4  \\\n",
              "Valores  [(1, 1)]  [(1, 2), (2, 1)]  [(1, 3), (2, 2), (3, 1)]   \n",
              "\n",
              "                                   Suma 5  \\\n",
              "Valores  [(1, 4), (2, 3), (3, 2), (4, 1)]   \n",
              "\n",
              "                                           Suma 6  \\\n",
              "Valores  [(1, 5), (2, 4), (3, 3), (4, 2), (5, 1)]   \n",
              "\n",
              "                                                   Suma 7  \\\n",
              "Valores  [(1, 6), (2, 5), (3, 4), (4, 3), (5, 2), (6, 1)]   \n",
              "\n",
              "                                           Suma 8  \\\n",
              "Valores  [(2, 6), (3, 5), (4, 4), (5, 3), (6, 2)]   \n",
              "\n",
              "                                   Suma 9                   Suma 10  \\\n",
              "Valores  [(3, 6), (4, 5), (5, 4), (6, 3)]  [(4, 6), (5, 5), (6, 4)]   \n",
              "\n",
              "                  Suma 11   Suma 12  \n",
              "Valores  [(5, 6), (6, 5)]  [(6, 6)]  "
            ],
            "text/html": [
              "\n",
              "  <div id=\"df-0e6be1c3-f394-4d96-8399-44213515abc7\">\n",
              "    <div class=\"colab-df-container\">\n",
              "      <div>\n",
              "<style scoped>\n",
              "    .dataframe tbody tr th:only-of-type {\n",
              "        vertical-align: middle;\n",
              "    }\n",
              "\n",
              "    .dataframe tbody tr th {\n",
              "        vertical-align: top;\n",
              "    }\n",
              "\n",
              "    .dataframe thead th {\n",
              "        text-align: right;\n",
              "    }\n",
              "</style>\n",
              "<table border=\"1\" class=\"dataframe\">\n",
              "  <thead>\n",
              "    <tr style=\"text-align: right;\">\n",
              "      <th></th>\n",
              "      <th>Suma 2</th>\n",
              "      <th>Suma 3</th>\n",
              "      <th>Suma 4</th>\n",
              "      <th>Suma 5</th>\n",
              "      <th>Suma 6</th>\n",
              "      <th>Suma 7</th>\n",
              "      <th>Suma 8</th>\n",
              "      <th>Suma 9</th>\n",
              "      <th>Suma 10</th>\n",
              "      <th>Suma 11</th>\n",
              "      <th>Suma 12</th>\n",
              "    </tr>\n",
              "  </thead>\n",
              "  <tbody>\n",
              "    <tr>\n",
              "      <th>Valores</th>\n",
              "      <td>[(1, 1)]</td>\n",
              "      <td>[(1, 2), (2, 1)]</td>\n",
              "      <td>[(1, 3), (2, 2), (3, 1)]</td>\n",
              "      <td>[(1, 4), (2, 3), (3, 2), (4, 1)]</td>\n",
              "      <td>[(1, 5), (2, 4), (3, 3), (4, 2), (5, 1)]</td>\n",
              "      <td>[(1, 6), (2, 5), (3, 4), (4, 3), (5, 2), (6, 1)]</td>\n",
              "      <td>[(2, 6), (3, 5), (4, 4), (5, 3), (6, 2)]</td>\n",
              "      <td>[(3, 6), (4, 5), (5, 4), (6, 3)]</td>\n",
              "      <td>[(4, 6), (5, 5), (6, 4)]</td>\n",
              "      <td>[(5, 6), (6, 5)]</td>\n",
              "      <td>[(6, 6)]</td>\n",
              "    </tr>\n",
              "  </tbody>\n",
              "</table>\n",
              "</div>\n",
              "      <button class=\"colab-df-convert\" onclick=\"convertToInteractive('df-0e6be1c3-f394-4d96-8399-44213515abc7')\"\n",
              "              title=\"Convert this dataframe to an interactive table.\"\n",
              "              style=\"display:none;\">\n",
              "        \n",
              "  <svg xmlns=\"http://www.w3.org/2000/svg\" height=\"24px\"viewBox=\"0 0 24 24\"\n",
              "       width=\"24px\">\n",
              "    <path d=\"M0 0h24v24H0V0z\" fill=\"none\"/>\n",
              "    <path d=\"M18.56 5.44l.94 2.06.94-2.06 2.06-.94-2.06-.94-.94-2.06-.94 2.06-2.06.94zm-11 1L8.5 8.5l.94-2.06 2.06-.94-2.06-.94L8.5 2.5l-.94 2.06-2.06.94zm10 10l.94 2.06.94-2.06 2.06-.94-2.06-.94-.94-2.06-.94 2.06-2.06.94z\"/><path d=\"M17.41 7.96l-1.37-1.37c-.4-.4-.92-.59-1.43-.59-.52 0-1.04.2-1.43.59L10.3 9.45l-7.72 7.72c-.78.78-.78 2.05 0 2.83L4 21.41c.39.39.9.59 1.41.59.51 0 1.02-.2 1.41-.59l7.78-7.78 2.81-2.81c.8-.78.8-2.07 0-2.86zM5.41 20L4 18.59l7.72-7.72 1.47 1.35L5.41 20z\"/>\n",
              "  </svg>\n",
              "      </button>\n",
              "      \n",
              "  <style>\n",
              "    .colab-df-container {\n",
              "      display:flex;\n",
              "      flex-wrap:wrap;\n",
              "      gap: 12px;\n",
              "    }\n",
              "\n",
              "    .colab-df-convert {\n",
              "      background-color: #E8F0FE;\n",
              "      border: none;\n",
              "      border-radius: 50%;\n",
              "      cursor: pointer;\n",
              "      display: none;\n",
              "      fill: #1967D2;\n",
              "      height: 32px;\n",
              "      padding: 0 0 0 0;\n",
              "      width: 32px;\n",
              "    }\n",
              "\n",
              "    .colab-df-convert:hover {\n",
              "      background-color: #E2EBFA;\n",
              "      box-shadow: 0px 1px 2px rgba(60, 64, 67, 0.3), 0px 1px 3px 1px rgba(60, 64, 67, 0.15);\n",
              "      fill: #174EA6;\n",
              "    }\n",
              "\n",
              "    [theme=dark] .colab-df-convert {\n",
              "      background-color: #3B4455;\n",
              "      fill: #D2E3FC;\n",
              "    }\n",
              "\n",
              "    [theme=dark] .colab-df-convert:hover {\n",
              "      background-color: #434B5C;\n",
              "      box-shadow: 0px 1px 3px 1px rgba(0, 0, 0, 0.15);\n",
              "      filter: drop-shadow(0px 1px 2px rgba(0, 0, 0, 0.3));\n",
              "      fill: #FFFFFF;\n",
              "    }\n",
              "  </style>\n",
              "\n",
              "      <script>\n",
              "        const buttonEl =\n",
              "          document.querySelector('#df-0e6be1c3-f394-4d96-8399-44213515abc7 button.colab-df-convert');\n",
              "        buttonEl.style.display =\n",
              "          google.colab.kernel.accessAllowed ? 'block' : 'none';\n",
              "\n",
              "        async function convertToInteractive(key) {\n",
              "          const element = document.querySelector('#df-0e6be1c3-f394-4d96-8399-44213515abc7');\n",
              "          const dataTable =\n",
              "            await google.colab.kernel.invokeFunction('convertToInteractive',\n",
              "                                                     [key], {});\n",
              "          if (!dataTable) return;\n",
              "\n",
              "          const docLinkHtml = 'Like what you see? Visit the ' +\n",
              "            '<a target=\"_blank\" href=https://colab.research.google.com/notebooks/data_table.ipynb>data table notebook</a>'\n",
              "            + ' to learn more about interactive tables.';\n",
              "          element.innerHTML = '';\n",
              "          dataTable['output_type'] = 'display_data';\n",
              "          await google.colab.output.renderOutput(dataTable, element);\n",
              "          const docLink = document.createElement('div');\n",
              "          docLink.innerHTML = docLinkHtml;\n",
              "          element.appendChild(docLink);\n",
              "        }\n",
              "      </script>\n",
              "    </div>\n",
              "  </div>\n",
              "  "
            ]
          },
          "metadata": {},
          "execution_count": 54
        }
      ]
    }
  ]
}