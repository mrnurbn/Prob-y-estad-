{
  "nbformat": 4,
  "nbformat_minor": 0,
  "metadata": {
    "colab": {
      "provenance": []
    },
    "kernelspec": {
      "name": "python3",
      "display_name": "Python 3"
    },
    "language_info": {
      "name": "python"
    }
  },
  "cells": [
    {
      "cell_type": "code",
      "execution_count": null,
      "metadata": {
        "id": "WSIJN-IBuvKo"
      },
      "outputs": [],
      "source": [
        "#EXPERIMENTO ALEATORIO: LANZAR DOS DADOS HONESTOS\n",
        "#EL EVENTO: LA SUMA DE LOS DADOS ES N"
      ]
    },
    {
      "cell_type": "code",
      "source": [
        "from itertools import product\n",
        "Omega= set(product([1,2,3,4,5,6], repeat= 2))\n",
        "len(Omega)\n"
      ],
      "metadata": {
        "colab": {
          "base_uri": "https://localhost:8080/"
        },
        "id": "zOc8szaNu74z",
        "outputId": "0b3c2fa3-c371-4fb9-e8b7-f18eff052469"
      },
      "execution_count": null,
      "outputs": [
        {
          "output_type": "execute_result",
          "data": {
            "text/plain": [
              "36"
            ]
          },
          "metadata": {},
          "execution_count": 46
        }
      ]
    },
    {
      "cell_type": "code",
      "source": [
        "Omega"
      ],
      "metadata": {
        "colab": {
          "base_uri": "https://localhost:8080/"
        },
        "id": "H6_fqs7uvL_K",
        "outputId": "98005633-2622-46c7-f18a-68714ca72711"
      },
      "execution_count": null,
      "outputs": [
        {
          "output_type": "execute_result",
          "data": {
            "text/plain": [
              "{(1, 1),\n",
              " (1, 2),\n",
              " (1, 3),\n",
              " (1, 4),\n",
              " (1, 5),\n",
              " (1, 6),\n",
              " (2, 1),\n",
              " (2, 2),\n",
              " (2, 3),\n",
              " (2, 4),\n",
              " (2, 5),\n",
              " (2, 6),\n",
              " (3, 1),\n",
              " (3, 2),\n",
              " (3, 3),\n",
              " (3, 4),\n",
              " (3, 5),\n",
              " (3, 6),\n",
              " (4, 1),\n",
              " (4, 2),\n",
              " (4, 3),\n",
              " (4, 4),\n",
              " (4, 5),\n",
              " (4, 6),\n",
              " (5, 1),\n",
              " (5, 2),\n",
              " (5, 3),\n",
              " (5, 4),\n",
              " (5, 5),\n",
              " (5, 6),\n",
              " (6, 1),\n",
              " (6, 2),\n",
              " (6, 3),\n",
              " (6, 4),\n",
              " (6, 5),\n",
              " (6, 6)}"
            ]
          },
          "metadata": {},
          "execution_count": 3
        }
      ]
    },
    {
      "cell_type": "code",
      "source": [
        "S= {omega for omega in Omega if omega[0] + omega [1] == 2 }\n",
        "S"
      ],
      "metadata": {
        "colab": {
          "base_uri": "https://localhost:8080/"
        },
        "id": "taAJQJoxvpXS",
        "outputId": "4c08f67e-a462-4e56-a124-de9de0db91ed"
      },
      "execution_count": null,
      "outputs": [
        {
          "output_type": "execute_result",
          "data": {
            "text/plain": [
              "{(1, 1)}"
            ]
          },
          "metadata": {},
          "execution_count": 7
        }
      ]
    },
    {
      "cell_type": "code",
      "source": [
        "#VAMOS A CREAR UNA FUNCIÓN GLOBAL\n",
        "def S(n):\n",
        "  S= {omega for omega in Omega if omega[0] + omega [1] == n }\n",
        "  return S"
      ],
      "metadata": {
        "id": "VlESGpX2wr5L"
      },
      "execution_count": null,
      "outputs": []
    },
    {
      "cell_type": "code",
      "source": [
        "S(0)"
      ],
      "metadata": {
        "colab": {
          "base_uri": "https://localhost:8080/"
        },
        "id": "TF-EAcEbxxQR",
        "outputId": "3e38eb67-49ae-4278-d2c1-7bad96f20317"
      },
      "execution_count": null,
      "outputs": [
        {
          "output_type": "execute_result",
          "data": {
            "text/plain": [
              "set()"
            ]
          },
          "metadata": {},
          "execution_count": 9
        }
      ]
    },
    {
      "cell_type": "code",
      "source": [
        "S(1)"
      ],
      "metadata": {
        "colab": {
          "base_uri": "https://localhost:8080/"
        },
        "id": "TEY60M4Lx2k_",
        "outputId": "d2ba17e9-2c44-4f2d-cb23-52a34b8bd07a"
      },
      "execution_count": null,
      "outputs": [
        {
          "output_type": "execute_result",
          "data": {
            "text/plain": [
              "set()"
            ]
          },
          "metadata": {},
          "execution_count": 10
        }
      ]
    },
    {
      "cell_type": "code",
      "source": [
        "S(2)"
      ],
      "metadata": {
        "colab": {
          "base_uri": "https://localhost:8080/"
        },
        "id": "9GEfF8eQx65T",
        "outputId": "02468f52-11d1-425d-dc01-1167303afe32"
      },
      "execution_count": null,
      "outputs": [
        {
          "output_type": "execute_result",
          "data": {
            "text/plain": [
              "{(1, 1)}"
            ]
          },
          "metadata": {},
          "execution_count": 11
        }
      ]
    },
    {
      "cell_type": "code",
      "source": [
        "S(3)"
      ],
      "metadata": {
        "colab": {
          "base_uri": "https://localhost:8080/"
        },
        "id": "A-NNSgenx8cW",
        "outputId": "5664ef44-8261-4a09-ec69-5ca888cdc216"
      },
      "execution_count": null,
      "outputs": [
        {
          "output_type": "execute_result",
          "data": {
            "text/plain": [
              "{(1, 2), (2, 1)}"
            ]
          },
          "metadata": {},
          "execution_count": 12
        }
      ]
    },
    {
      "cell_type": "code",
      "source": [
        "S(4)"
      ],
      "metadata": {
        "colab": {
          "base_uri": "https://localhost:8080/"
        },
        "id": "bj0EfzRsx-Bf",
        "outputId": "0a2cacee-cd31-40f9-ee6c-962355b304ab"
      },
      "execution_count": null,
      "outputs": [
        {
          "output_type": "execute_result",
          "data": {
            "text/plain": [
              "{(1, 3), (2, 2), (3, 1)}"
            ]
          },
          "metadata": {},
          "execution_count": 13
        }
      ]
    },
    {
      "cell_type": "code",
      "source": [
        "S(5)"
      ],
      "metadata": {
        "colab": {
          "base_uri": "https://localhost:8080/"
        },
        "id": "cWz_na6mx_mZ",
        "outputId": "70ded49a-29f1-464c-dc72-57de31034ee7"
      },
      "execution_count": null,
      "outputs": [
        {
          "output_type": "execute_result",
          "data": {
            "text/plain": [
              "{(1, 5), (2, 4), (3, 3), (4, 2), (5, 1)}"
            ]
          },
          "metadata": {},
          "execution_count": 14
        }
      ]
    },
    {
      "cell_type": "code",
      "source": [
        "S(6)"
      ],
      "metadata": {
        "colab": {
          "base_uri": "https://localhost:8080/"
        },
        "id": "_7xPsR1hyGCM",
        "outputId": "ffb1677a-5b40-4517-f68c-d3a913c00303"
      },
      "execution_count": null,
      "outputs": [
        {
          "output_type": "execute_result",
          "data": {
            "text/plain": [
              "{(1, 5), (2, 4), (3, 3), (4, 2), (5, 1)}"
            ]
          },
          "metadata": {},
          "execution_count": 15
        }
      ]
    },
    {
      "cell_type": "code",
      "source": [
        "S(7)"
      ],
      "metadata": {
        "colab": {
          "base_uri": "https://localhost:8080/"
        },
        "id": "Cx1WPkdCyHYF",
        "outputId": "536fb5de-bf27-498b-ae95-e9ab14948fa5"
      },
      "execution_count": null,
      "outputs": [
        {
          "output_type": "execute_result",
          "data": {
            "text/plain": [
              "{(1, 6), (2, 5), (3, 4), (4, 3), (5, 2), (6, 1)}"
            ]
          },
          "metadata": {},
          "execution_count": 16
        }
      ]
    },
    {
      "cell_type": "code",
      "source": [
        "S(8)"
      ],
      "metadata": {
        "colab": {
          "base_uri": "https://localhost:8080/"
        },
        "id": "UQSdrDCcyIdu",
        "outputId": "a7596aa8-3736-4c72-b80f-0c782f517c17"
      },
      "execution_count": null,
      "outputs": [
        {
          "output_type": "execute_result",
          "data": {
            "text/plain": [
              "{(2, 6), (3, 5), (4, 4), (5, 3), (6, 2)}"
            ]
          },
          "metadata": {},
          "execution_count": 17
        }
      ]
    },
    {
      "cell_type": "code",
      "source": [
        "[print(S(n))for n in range (2,13)]"
      ],
      "metadata": {
        "colab": {
          "base_uri": "https://localhost:8080/"
        },
        "id": "5odhCHOcyLS9",
        "outputId": "91cb3a16-bb1b-417e-ae9a-dedbb0f48d79"
      },
      "execution_count": null,
      "outputs": [
        {
          "output_type": "stream",
          "name": "stdout",
          "text": [
            "{(1, 1)}\n",
            "{(1, 2), (2, 1)}\n",
            "{(1, 3), (3, 1), (2, 2)}\n",
            "{(3, 2), (4, 1), (1, 4), (2, 3)}\n",
            "{(5, 1), (3, 3), (1, 5), (4, 2), (2, 4)}\n",
            "{(6, 1), (1, 6), (4, 3), (3, 4), (2, 5), (5, 2)}\n",
            "{(3, 5), (2, 6), (4, 4), (6, 2), (5, 3)}\n",
            "{(6, 3), (5, 4), (4, 5), (3, 6)}\n",
            "{(6, 4), (4, 6), (5, 5)}\n",
            "{(5, 6), (6, 5)}\n",
            "{(6, 6)}\n"
          ]
        },
        {
          "output_type": "execute_result",
          "data": {
            "text/plain": [
              "[None, None, None, None, None, None, None, None, None, None, None]"
            ]
          },
          "metadata": {},
          "execution_count": 20
        }
      ]
    },
    {
      "cell_type": "code",
      "source": [
        "#Vamos a crear una función global que calcule la probabilidad de cada evento \n",
        "def P(A):\n",
        "  p = len (A) / len (Omega)\n",
        "  return p"
      ],
      "metadata": {
        "id": "zvyuyW2xzDaw"
      },
      "execution_count": null,
      "outputs": []
    },
    {
      "cell_type": "code",
      "source": [
        "P(S(2))\n"
      ],
      "metadata": {
        "colab": {
          "base_uri": "https://localhost:8080/"
        },
        "id": "r5YFT8B9zpWj",
        "outputId": "81a20370-085b-45d5-a66b-048eb7a8c195"
      },
      "execution_count": null,
      "outputs": [
        {
          "output_type": "execute_result",
          "data": {
            "text/plain": [
              "0.027777777777777776"
            ]
          },
          "metadata": {},
          "execution_count": 25
        }
      ]
    },
    {
      "cell_type": "code",
      "source": [
        "P(S(3))"
      ],
      "metadata": {
        "colab": {
          "base_uri": "https://localhost:8080/"
        },
        "id": "kgvD77irz0xt",
        "outputId": "3902c8fd-6c82-4223-80b7-b3992c3630ab"
      },
      "execution_count": null,
      "outputs": [
        {
          "output_type": "execute_result",
          "data": {
            "text/plain": [
              "0.05555555555555555"
            ]
          },
          "metadata": {},
          "execution_count": 26
        }
      ]
    },
    {
      "cell_type": "code",
      "source": [
        "for n in range(2,13):\n",
        "  d= {omega [0] + omega[1]: P(S(n)) for omega in Omega}\n",
        "d"
      ],
      "metadata": {
        "colab": {
          "base_uri": "https://localhost:8080/"
        },
        "id": "7ggQDYwi0QO0",
        "outputId": "6e48a24f-bf22-4fea-fe66-8a7ea33e7717"
      },
      "execution_count": null,
      "outputs": [
        {
          "output_type": "execute_result",
          "data": {
            "text/plain": [
              "{4: 0.027777777777777776,\n",
              " 12: 0.027777777777777776,\n",
              " 11: 0.027777777777777776,\n",
              " 3: 0.027777777777777776,\n",
              " 8: 0.027777777777777776,\n",
              " 7: 0.027777777777777776,\n",
              " 6: 0.027777777777777776,\n",
              " 10: 0.027777777777777776,\n",
              " 9: 0.027777777777777776,\n",
              " 5: 0.027777777777777776,\n",
              " 2: 0.027777777777777776}"
            ]
          },
          "metadata": {},
          "execution_count": 37
        }
      ]
    },
    {
      "cell_type": "code",
      "source": [
        "#otra forma\n",
        "d = {omega[0]+omega[1]: P(S(2)) for omega in Omega }\n",
        "d"
      ],
      "metadata": {
        "colab": {
          "base_uri": "https://localhost:8080/"
        },
        "id": "FTQRIke614dV",
        "outputId": "a5ce0186-f80a-4324-bb2c-171e9b41d041"
      },
      "execution_count": null,
      "outputs": [
        {
          "output_type": "execute_result",
          "data": {
            "text/plain": [
              "{4: 0.027777777777777776,\n",
              " 12: 0.027777777777777776,\n",
              " 11: 0.027777777777777776,\n",
              " 3: 0.027777777777777776,\n",
              " 8: 0.027777777777777776,\n",
              " 7: 0.027777777777777776,\n",
              " 6: 0.027777777777777776,\n",
              " 10: 0.027777777777777776,\n",
              " 9: 0.027777777777777776,\n",
              " 5: 0.027777777777777776,\n",
              " 2: 0.027777777777777776}"
            ]
          },
          "metadata": {},
          "execution_count": 38
        }
      ]
    },
    {
      "cell_type": "code",
      "source": [
        "import pandas as pd\n",
        "index = \"Probabilidades\"\n",
        "dfprobabilidades= pd.DataFrame(d, index=[index])\n",
        "dfprobabilidades"
      ],
      "metadata": {
        "colab": {
          "base_uri": "https://localhost:8080/",
          "height": 81
        },
        "id": "CYy6wst-2igO",
        "outputId": "b91fcec8-44b3-4d0b-eac9-46af042b1e91"
      },
      "execution_count": null,
      "outputs": [
        {
          "output_type": "execute_result",
          "data": {
            "text/plain": [
              "                      4         12        11        3         8         7   \\\n",
              "Probabilidades  0.027778  0.027778  0.027778  0.027778  0.027778  0.027778   \n",
              "\n",
              "                      6         10        9         5         2   \n",
              "Probabilidades  0.027778  0.027778  0.027778  0.027778  0.027778  "
            ],
            "text/html": [
              "\n",
              "  <div id=\"df-28246861-04ef-443a-a860-74b52f4fcf14\">\n",
              "    <div class=\"colab-df-container\">\n",
              "      <div>\n",
              "<style scoped>\n",
              "    .dataframe tbody tr th:only-of-type {\n",
              "        vertical-align: middle;\n",
              "    }\n",
              "\n",
              "    .dataframe tbody tr th {\n",
              "        vertical-align: top;\n",
              "    }\n",
              "\n",
              "    .dataframe thead th {\n",
              "        text-align: right;\n",
              "    }\n",
              "</style>\n",
              "<table border=\"1\" class=\"dataframe\">\n",
              "  <thead>\n",
              "    <tr style=\"text-align: right;\">\n",
              "      <th></th>\n",
              "      <th>4</th>\n",
              "      <th>12</th>\n",
              "      <th>11</th>\n",
              "      <th>3</th>\n",
              "      <th>8</th>\n",
              "      <th>7</th>\n",
              "      <th>6</th>\n",
              "      <th>10</th>\n",
              "      <th>9</th>\n",
              "      <th>5</th>\n",
              "      <th>2</th>\n",
              "    </tr>\n",
              "  </thead>\n",
              "  <tbody>\n",
              "    <tr>\n",
              "      <th>Probabilidades</th>\n",
              "      <td>0.027778</td>\n",
              "      <td>0.027778</td>\n",
              "      <td>0.027778</td>\n",
              "      <td>0.027778</td>\n",
              "      <td>0.027778</td>\n",
              "      <td>0.027778</td>\n",
              "      <td>0.027778</td>\n",
              "      <td>0.027778</td>\n",
              "      <td>0.027778</td>\n",
              "      <td>0.027778</td>\n",
              "      <td>0.027778</td>\n",
              "    </tr>\n",
              "  </tbody>\n",
              "</table>\n",
              "</div>\n",
              "      <button class=\"colab-df-convert\" onclick=\"convertToInteractive('df-28246861-04ef-443a-a860-74b52f4fcf14')\"\n",
              "              title=\"Convert this dataframe to an interactive table.\"\n",
              "              style=\"display:none;\">\n",
              "        \n",
              "  <svg xmlns=\"http://www.w3.org/2000/svg\" height=\"24px\"viewBox=\"0 0 24 24\"\n",
              "       width=\"24px\">\n",
              "    <path d=\"M0 0h24v24H0V0z\" fill=\"none\"/>\n",
              "    <path d=\"M18.56 5.44l.94 2.06.94-2.06 2.06-.94-2.06-.94-.94-2.06-.94 2.06-2.06.94zm-11 1L8.5 8.5l.94-2.06 2.06-.94-2.06-.94L8.5 2.5l-.94 2.06-2.06.94zm10 10l.94 2.06.94-2.06 2.06-.94-2.06-.94-.94-2.06-.94 2.06-2.06.94z\"/><path d=\"M17.41 7.96l-1.37-1.37c-.4-.4-.92-.59-1.43-.59-.52 0-1.04.2-1.43.59L10.3 9.45l-7.72 7.72c-.78.78-.78 2.05 0 2.83L4 21.41c.39.39.9.59 1.41.59.51 0 1.02-.2 1.41-.59l7.78-7.78 2.81-2.81c.8-.78.8-2.07 0-2.86zM5.41 20L4 18.59l7.72-7.72 1.47 1.35L5.41 20z\"/>\n",
              "  </svg>\n",
              "      </button>\n",
              "      \n",
              "  <style>\n",
              "    .colab-df-container {\n",
              "      display:flex;\n",
              "      flex-wrap:wrap;\n",
              "      gap: 12px;\n",
              "    }\n",
              "\n",
              "    .colab-df-convert {\n",
              "      background-color: #E8F0FE;\n",
              "      border: none;\n",
              "      border-radius: 50%;\n",
              "      cursor: pointer;\n",
              "      display: none;\n",
              "      fill: #1967D2;\n",
              "      height: 32px;\n",
              "      padding: 0 0 0 0;\n",
              "      width: 32px;\n",
              "    }\n",
              "\n",
              "    .colab-df-convert:hover {\n",
              "      background-color: #E2EBFA;\n",
              "      box-shadow: 0px 1px 2px rgba(60, 64, 67, 0.3), 0px 1px 3px 1px rgba(60, 64, 67, 0.15);\n",
              "      fill: #174EA6;\n",
              "    }\n",
              "\n",
              "    [theme=dark] .colab-df-convert {\n",
              "      background-color: #3B4455;\n",
              "      fill: #D2E3FC;\n",
              "    }\n",
              "\n",
              "    [theme=dark] .colab-df-convert:hover {\n",
              "      background-color: #434B5C;\n",
              "      box-shadow: 0px 1px 3px 1px rgba(0, 0, 0, 0.15);\n",
              "      filter: drop-shadow(0px 1px 2px rgba(0, 0, 0, 0.3));\n",
              "      fill: #FFFFFF;\n",
              "    }\n",
              "  </style>\n",
              "\n",
              "      <script>\n",
              "        const buttonEl =\n",
              "          document.querySelector('#df-28246861-04ef-443a-a860-74b52f4fcf14 button.colab-df-convert');\n",
              "        buttonEl.style.display =\n",
              "          google.colab.kernel.accessAllowed ? 'block' : 'none';\n",
              "\n",
              "        async function convertToInteractive(key) {\n",
              "          const element = document.querySelector('#df-28246861-04ef-443a-a860-74b52f4fcf14');\n",
              "          const dataTable =\n",
              "            await google.colab.kernel.invokeFunction('convertToInteractive',\n",
              "                                                     [key], {});\n",
              "          if (!dataTable) return;\n",
              "\n",
              "          const docLinkHtml = 'Like what you see? Visit the ' +\n",
              "            '<a target=\"_blank\" href=https://colab.research.google.com/notebooks/data_table.ipynb>data table notebook</a>'\n",
              "            + ' to learn more about interactive tables.';\n",
              "          element.innerHTML = '';\n",
              "          dataTable['output_type'] = 'display_data';\n",
              "          await google.colab.output.renderOutput(dataTable, element);\n",
              "          const docLink = document.createElement('div');\n",
              "          docLink.innerHTML = docLinkHtml;\n",
              "          element.appendChild(docLink);\n",
              "        }\n",
              "      </script>\n",
              "    </div>\n",
              "  </div>\n",
              "  "
            ]
          },
          "metadata": {},
          "execution_count": 40
        }
      ]
    },
    {
      "cell_type": "code",
      "source": [
        "S = {(omega[0], omega[1]): omega[0]+omega[1] for omega in Omega}\n",
        "S"
      ],
      "metadata": {
        "colab": {
          "base_uri": "https://localhost:8080/"
        },
        "id": "-oB0nO3L4T8t",
        "outputId": "2e482727-27e1-4aef-ef60-3f2cafb3a0cd"
      },
      "execution_count": null,
      "outputs": [
        {
          "output_type": "execute_result",
          "data": {
            "text/plain": [
              "{(1, 3): 4,\n",
              " (6, 6): 12,\n",
              " (5, 6): 11,\n",
              " (2, 1): 3,\n",
              " (6, 2): 8,\n",
              " (1, 6): 7,\n",
              " (5, 1): 6,\n",
              " (2, 5): 7,\n",
              " (1, 2): 3,\n",
              " (3, 3): 6,\n",
              " (5, 5): 10,\n",
              " (4, 4): 8,\n",
              " (6, 3): 9,\n",
              " (1, 5): 6,\n",
              " (3, 6): 9,\n",
              " (2, 2): 4,\n",
              " (4, 1): 5,\n",
              " (1, 1): 2,\n",
              " (6, 4): 10,\n",
              " (3, 2): 5,\n",
              " (2, 6): 8,\n",
              " (5, 4): 9,\n",
              " (4, 5): 9,\n",
              " (5, 2): 7,\n",
              " (1, 4): 5,\n",
              " (2, 3): 5,\n",
              " (4, 2): 6,\n",
              " (6, 5): 11,\n",
              " (3, 5): 8,\n",
              " (5, 3): 8,\n",
              " (4, 6): 10,\n",
              " (6, 1): 7,\n",
              " (3, 1): 4,\n",
              " (4, 3): 7,\n",
              " (3, 4): 7,\n",
              " (2, 4): 6}"
            ]
          },
          "metadata": {},
          "execution_count": 41
        }
      ]
    },
    {
      "cell_type": "code",
      "source": [
        "d={\"Emilia\": \"concha\", \"Rocío\":\"rosa\"}\n",
        "d"
      ],
      "metadata": {
        "colab": {
          "base_uri": "https://localhost:8080/"
        },
        "id": "Kuo4AaZI5Zgt",
        "outputId": "75690f73-ea52-4b0c-e447-e168d8aa2eed"
      },
      "execution_count": null,
      "outputs": [
        {
          "output_type": "execute_result",
          "data": {
            "text/plain": [
              "{'Emilia': 'concha', 'Rocío': 'rosa'}"
            ]
          },
          "metadata": {},
          "execution_count": 42
        }
      ]
    },
    {
      "cell_type": "code",
      "source": [
        "d.keys()"
      ],
      "metadata": {
        "colab": {
          "base_uri": "https://localhost:8080/"
        },
        "id": "dO1YY0nT5w1G",
        "outputId": "b6d0ffd1-bad8-4242-c321-90ef649ea428"
      },
      "execution_count": null,
      "outputs": [
        {
          "output_type": "execute_result",
          "data": {
            "text/plain": [
              "dict_keys(['Emilia', 'Rocío'])"
            ]
          },
          "metadata": {},
          "execution_count": 43
        }
      ]
    },
    {
      "cell_type": "code",
      "source": [
        "d.values()"
      ],
      "metadata": {
        "colab": {
          "base_uri": "https://localhost:8080/"
        },
        "id": "oUCiNteb50tp",
        "outputId": "8f5e830d-e10e-4108-ccc8-fba96c88f134"
      },
      "execution_count": null,
      "outputs": [
        {
          "output_type": "execute_result",
          "data": {
            "text/plain": [
              "dict_values(['concha', 'rosa'])"
            ]
          },
          "metadata": {},
          "execution_count": 44
        }
      ]
    },
    {
      "cell_type": "code",
      "source": [
        "d.items()"
      ],
      "metadata": {
        "colab": {
          "base_uri": "https://localhost:8080/"
        },
        "id": "LDeDpTUM55aA",
        "outputId": "6ca6e487-9885-4353-d02e-c597fc9e6626"
      },
      "execution_count": null,
      "outputs": [
        {
          "output_type": "execute_result",
          "data": {
            "text/plain": [
              "dict_items([('Emilia', 'concha'), ('Rocío', 'rosa')])"
            ]
          },
          "metadata": {},
          "execution_count": 45
        }
      ]
    },
    {
      "cell_type": "code",
      "source": [
        "S.items()"
      ],
      "metadata": {
        "colab": {
          "base_uri": "https://localhost:8080/"
        },
        "id": "J5AspQb-64fs",
        "outputId": "6f01efbe-1d1d-4077-b592-301a3cc1b2eb"
      },
      "execution_count": null,
      "outputs": [
        {
          "output_type": "execute_result",
          "data": {
            "text/plain": [
              "dict_items([((1, 3), 4), ((6, 6), 12), ((5, 6), 11), ((2, 1), 3), ((6, 2), 8), ((1, 6), 7), ((5, 1), 6), ((2, 5), 7), ((1, 2), 3), ((3, 3), 6), ((5, 5), 10), ((4, 4), 8), ((6, 3), 9), ((1, 5), 6), ((3, 6), 9), ((2, 2), 4), ((4, 1), 5), ((1, 1), 2), ((6, 4), 10), ((3, 2), 5), ((2, 6), 8), ((5, 4), 9), ((4, 5), 9), ((5, 2), 7), ((1, 4), 5), ((2, 3), 5), ((4, 2), 6), ((6, 5), 11), ((3, 5), 8), ((5, 3), 8), ((4, 6), 10), ((6, 1), 7), ((3, 1), 4), ((4, 3), 7), ((3, 4), 7), ((2, 4), 6)])"
            ]
          },
          "metadata": {},
          "execution_count": 47
        }
      ]
    },
    {
      "cell_type": "code",
      "source": [
        "from collections import defaultdict\n",
        "dS= defaultdict(set)\n",
        "for i,j in S.items():\n",
        "  dS[j].add(i)"
      ],
      "metadata": {
        "id": "ZONuLw225AN_"
      },
      "execution_count": null,
      "outputs": []
    },
    {
      "cell_type": "code",
      "source": [
        "dS"
      ],
      "metadata": {
        "colab": {
          "base_uri": "https://localhost:8080/"
        },
        "id": "eum4RW-37UtN",
        "outputId": "48df37a2-3161-436e-8a3d-65a9b02f6d2c"
      },
      "execution_count": null,
      "outputs": [
        {
          "output_type": "execute_result",
          "data": {
            "text/plain": [
              "defaultdict(set,\n",
              "            {4: {(1, 3), (2, 2), (3, 1)},\n",
              "             12: {(6, 6)},\n",
              "             11: {(5, 6), (6, 5)},\n",
              "             3: {(1, 2), (2, 1)},\n",
              "             8: {(2, 6), (3, 5), (4, 4), (5, 3), (6, 2)},\n",
              "             7: {(1, 6), (2, 5), (3, 4), (4, 3), (5, 2), (6, 1)},\n",
              "             6: {(1, 5), (2, 4), (3, 3), (4, 2), (5, 1)},\n",
              "             10: {(4, 6), (5, 5), (6, 4)},\n",
              "             9: {(3, 6), (4, 5), (5, 4), (6, 3)},\n",
              "             5: {(1, 4), (2, 3), (3, 2), (4, 1)},\n",
              "             2: {(1, 1)}})"
            ]
          },
          "metadata": {},
          "execution_count": 49
        }
      ]
    },
    {
      "cell_type": "code",
      "source": [
        "#de un lado la suma de los dados y del otro lado la probabilidad\n",
        "Densidad_S = {i : P(A) for i, A in dS.items() }\n",
        "Densidad_S"
      ],
      "metadata": {
        "colab": {
          "base_uri": "https://localhost:8080/"
        },
        "id": "oIcQ0AO97h-c",
        "outputId": "019a3dc1-08b9-44f9-faf1-e9ffd4f38ec5"
      },
      "execution_count": null,
      "outputs": [
        {
          "output_type": "execute_result",
          "data": {
            "text/plain": [
              "{4: 0.08333333333333333,\n",
              " 12: 0.027777777777777776,\n",
              " 11: 0.05555555555555555,\n",
              " 3: 0.05555555555555555,\n",
              " 8: 0.1388888888888889,\n",
              " 7: 0.16666666666666666,\n",
              " 6: 0.1388888888888889,\n",
              " 10: 0.08333333333333333,\n",
              " 9: 0.1111111111111111,\n",
              " 5: 0.1111111111111111,\n",
              " 2: 0.027777777777777776}"
            ]
          },
          "metadata": {},
          "execution_count": 52
        }
      ]
    },
    {
      "cell_type": "code",
      "source": [
        "DensidadS = pd.Series (Densidad_S)\n",
        "DensidadS"
      ],
      "metadata": {
        "colab": {
          "base_uri": "https://localhost:8080/"
        },
        "id": "YYxo7YPK9wdx",
        "outputId": "96018cb6-b80b-49d6-c84a-a9b8fe7e9247"
      },
      "execution_count": null,
      "outputs": [
        {
          "output_type": "execute_result",
          "data": {
            "text/plain": [
              "4     0.083333\n",
              "12    0.027778\n",
              "11    0.055556\n",
              "3     0.055556\n",
              "8     0.138889\n",
              "7     0.166667\n",
              "6     0.138889\n",
              "10    0.083333\n",
              "9     0.111111\n",
              "5     0.111111\n",
              "2     0.027778\n",
              "dtype: float64"
            ]
          },
          "metadata": {},
          "execution_count": 54
        }
      ]
    },
    {
      "cell_type": "code",
      "source": [],
      "metadata": {
        "id": "Sp-WN9JU-ToR"
      },
      "execution_count": null,
      "outputs": []
    },
    {
      "cell_type": "code",
      "source": [
        "index= \"Probabilidades\"\n",
        "dfDensidad =pd.DataFrame(Densidad_S, index=[index])\n",
        "dfDensidad"
      ],
      "metadata": {
        "colab": {
          "base_uri": "https://localhost:8080/",
          "height": 81
        },
        "id": "oA_TDJTO8vUX",
        "outputId": "39f05340-1db3-44a0-d9b2-becc34e8eea7"
      },
      "execution_count": null,
      "outputs": [
        {
          "output_type": "execute_result",
          "data": {
            "text/plain": [
              "                      4         12        11        3         8         7   \\\n",
              "Probabilidades  0.083333  0.027778  0.055556  0.055556  0.138889  0.166667   \n",
              "\n",
              "                      6         10        9         5         2   \n",
              "Probabilidades  0.138889  0.083333  0.111111  0.111111  0.027778  "
            ],
            "text/html": [
              "\n",
              "  <div id=\"df-d9a68709-01c3-4a6f-9f6c-8a7b5246a33f\">\n",
              "    <div class=\"colab-df-container\">\n",
              "      <div>\n",
              "<style scoped>\n",
              "    .dataframe tbody tr th:only-of-type {\n",
              "        vertical-align: middle;\n",
              "    }\n",
              "\n",
              "    .dataframe tbody tr th {\n",
              "        vertical-align: top;\n",
              "    }\n",
              "\n",
              "    .dataframe thead th {\n",
              "        text-align: right;\n",
              "    }\n",
              "</style>\n",
              "<table border=\"1\" class=\"dataframe\">\n",
              "  <thead>\n",
              "    <tr style=\"text-align: right;\">\n",
              "      <th></th>\n",
              "      <th>4</th>\n",
              "      <th>12</th>\n",
              "      <th>11</th>\n",
              "      <th>3</th>\n",
              "      <th>8</th>\n",
              "      <th>7</th>\n",
              "      <th>6</th>\n",
              "      <th>10</th>\n",
              "      <th>9</th>\n",
              "      <th>5</th>\n",
              "      <th>2</th>\n",
              "    </tr>\n",
              "  </thead>\n",
              "  <tbody>\n",
              "    <tr>\n",
              "      <th>Probabilidades</th>\n",
              "      <td>0.083333</td>\n",
              "      <td>0.027778</td>\n",
              "      <td>0.055556</td>\n",
              "      <td>0.055556</td>\n",
              "      <td>0.138889</td>\n",
              "      <td>0.166667</td>\n",
              "      <td>0.138889</td>\n",
              "      <td>0.083333</td>\n",
              "      <td>0.111111</td>\n",
              "      <td>0.111111</td>\n",
              "      <td>0.027778</td>\n",
              "    </tr>\n",
              "  </tbody>\n",
              "</table>\n",
              "</div>\n",
              "      <button class=\"colab-df-convert\" onclick=\"convertToInteractive('df-d9a68709-01c3-4a6f-9f6c-8a7b5246a33f')\"\n",
              "              title=\"Convert this dataframe to an interactive table.\"\n",
              "              style=\"display:none;\">\n",
              "        \n",
              "  <svg xmlns=\"http://www.w3.org/2000/svg\" height=\"24px\"viewBox=\"0 0 24 24\"\n",
              "       width=\"24px\">\n",
              "    <path d=\"M0 0h24v24H0V0z\" fill=\"none\"/>\n",
              "    <path d=\"M18.56 5.44l.94 2.06.94-2.06 2.06-.94-2.06-.94-.94-2.06-.94 2.06-2.06.94zm-11 1L8.5 8.5l.94-2.06 2.06-.94-2.06-.94L8.5 2.5l-.94 2.06-2.06.94zm10 10l.94 2.06.94-2.06 2.06-.94-2.06-.94-.94-2.06-.94 2.06-2.06.94z\"/><path d=\"M17.41 7.96l-1.37-1.37c-.4-.4-.92-.59-1.43-.59-.52 0-1.04.2-1.43.59L10.3 9.45l-7.72 7.72c-.78.78-.78 2.05 0 2.83L4 21.41c.39.39.9.59 1.41.59.51 0 1.02-.2 1.41-.59l7.78-7.78 2.81-2.81c.8-.78.8-2.07 0-2.86zM5.41 20L4 18.59l7.72-7.72 1.47 1.35L5.41 20z\"/>\n",
              "  </svg>\n",
              "      </button>\n",
              "      \n",
              "  <style>\n",
              "    .colab-df-container {\n",
              "      display:flex;\n",
              "      flex-wrap:wrap;\n",
              "      gap: 12px;\n",
              "    }\n",
              "\n",
              "    .colab-df-convert {\n",
              "      background-color: #E8F0FE;\n",
              "      border: none;\n",
              "      border-radius: 50%;\n",
              "      cursor: pointer;\n",
              "      display: none;\n",
              "      fill: #1967D2;\n",
              "      height: 32px;\n",
              "      padding: 0 0 0 0;\n",
              "      width: 32px;\n",
              "    }\n",
              "\n",
              "    .colab-df-convert:hover {\n",
              "      background-color: #E2EBFA;\n",
              "      box-shadow: 0px 1px 2px rgba(60, 64, 67, 0.3), 0px 1px 3px 1px rgba(60, 64, 67, 0.15);\n",
              "      fill: #174EA6;\n",
              "    }\n",
              "\n",
              "    [theme=dark] .colab-df-convert {\n",
              "      background-color: #3B4455;\n",
              "      fill: #D2E3FC;\n",
              "    }\n",
              "\n",
              "    [theme=dark] .colab-df-convert:hover {\n",
              "      background-color: #434B5C;\n",
              "      box-shadow: 0px 1px 3px 1px rgba(0, 0, 0, 0.15);\n",
              "      filter: drop-shadow(0px 1px 2px rgba(0, 0, 0, 0.3));\n",
              "      fill: #FFFFFF;\n",
              "    }\n",
              "  </style>\n",
              "\n",
              "      <script>\n",
              "        const buttonEl =\n",
              "          document.querySelector('#df-d9a68709-01c3-4a6f-9f6c-8a7b5246a33f button.colab-df-convert');\n",
              "        buttonEl.style.display =\n",
              "          google.colab.kernel.accessAllowed ? 'block' : 'none';\n",
              "\n",
              "        async function convertToInteractive(key) {\n",
              "          const element = document.querySelector('#df-d9a68709-01c3-4a6f-9f6c-8a7b5246a33f');\n",
              "          const dataTable =\n",
              "            await google.colab.kernel.invokeFunction('convertToInteractive',\n",
              "                                                     [key], {});\n",
              "          if (!dataTable) return;\n",
              "\n",
              "          const docLinkHtml = 'Like what you see? Visit the ' +\n",
              "            '<a target=\"_blank\" href=https://colab.research.google.com/notebooks/data_table.ipynb>data table notebook</a>'\n",
              "            + ' to learn more about interactive tables.';\n",
              "          element.innerHTML = '';\n",
              "          dataTable['output_type'] = 'display_data';\n",
              "          await google.colab.output.renderOutput(dataTable, element);\n",
              "          const docLink = document.createElement('div');\n",
              "          docLink.innerHTML = docLinkHtml;\n",
              "          element.appendChild(docLink);\n",
              "        }\n",
              "      </script>\n",
              "    </div>\n",
              "  </div>\n",
              "  "
            ]
          },
          "metadata": {},
          "execution_count": 53
        }
      ]
    }
  ]
}