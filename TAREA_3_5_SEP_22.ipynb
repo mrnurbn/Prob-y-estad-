{
  "nbformat": 4,
  "nbformat_minor": 0,
  "metadata": {
    "colab": {
      "provenance": []
    },
    "kernelspec": {
      "name": "python3",
      "display_name": "Python 3"
    },
    "language_info": {
      "name": "python"
    }
  },
  "cells": [
    {
      "cell_type": "markdown",
      "source": [
        "1. Lanzas una moneda justa (es decir, la probabilidad de obtener cara es $0.5$ ) tres veces. Suponga que todas las secuencias de resultados de lanzamiento de moneda, de longitud 3, son igualmente probables. Determine la probabilidad de cada uno de los siguientes eventos:\\n\",\n",
        "    \"\\n\",\n",
        "    \"    a. $\\\\{HHH\\\\}$ $3$ caras.\\n\","
      ],
      "metadata": {
        "id": "TaBVCgtdIPb1"
      }
    },
    {
      "cell_type": "code",
      "execution_count": null,
      "metadata": {
        "id": "PpB7osLDIFF1",
        "colab": {
          "base_uri": "https://localhost:8080/"
        },
        "outputId": "30668f6b-ac62-4a18-e298-4b8d5a7b2e6e"
      },
      "outputs": [
        {
          "output_type": "execute_result",
          "data": {
            "text/plain": [
              "{('H', 'H', 'H')}"
            ]
          },
          "metadata": {},
          "execution_count": 1
        }
      ],
      "source": [
        "from itertools import product\n",
        "OMEGA= set(product([\"H\",\"T\"], repeat = 3))\n",
        "_3H = {omega for omega in OMEGA if omega.count(\"H\")==3}\n",
        "_3H"
      ]
    },
    {
      "cell_type": "code",
      "source": [
        "P1= len (_3H) / len (OMEGA)\n",
        "P1"
      ],
      "metadata": {
        "colab": {
          "base_uri": "https://localhost:8080/"
        },
        "id": "A19rOoxaKRbN",
        "outputId": "f701e94d-6d12-48d0-80da-2825d797bc68"
      },
      "execution_count": null,
      "outputs": [
        {
          "output_type": "execute_result",
          "data": {
            "text/plain": [
              "0.125"
            ]
          },
          "metadata": {},
          "execution_count": 2
        }
      ]
    },
    {
      "cell_type": "markdown",
      "source": [
        "b. $\\\\{HTH\\\\}$ cara, águila, cara.\\n\",\n",
        "    \"    \\n\","
      ],
      "metadata": {
        "id": "lTx5721zKjat"
      }
    },
    {
      "cell_type": "code",
      "source": [
        "T={omega for omega in OMEGA if omega [0]==\"H\"}\n",
        "T"
      ],
      "metadata": {
        "colab": {
          "base_uri": "https://localhost:8080/"
        },
        "id": "qTutDDsIKunn",
        "outputId": "fa41dded-8c19-4032-859f-11a3aa0ded94"
      },
      "execution_count": null,
      "outputs": [
        {
          "output_type": "execute_result",
          "data": {
            "text/plain": [
              "{('H', 'H', 'H'), ('H', 'H', 'T'), ('H', 'T', 'H'), ('H', 'T', 'T')}"
            ]
          },
          "metadata": {},
          "execution_count": 3
        }
      ]
    },
    {
      "cell_type": "code",
      "source": [
        "U={omega for omega in OMEGA if omega [1]==\"T\"}\n",
        "U"
      ],
      "metadata": {
        "colab": {
          "base_uri": "https://localhost:8080/"
        },
        "id": "lif_Xap0K-gy",
        "outputId": "6320d875-1bfb-4ff1-db5b-09829c21bf82"
      },
      "execution_count": null,
      "outputs": [
        {
          "output_type": "execute_result",
          "data": {
            "text/plain": [
              "{('H', 'T', 'H'), ('H', 'T', 'T'), ('T', 'T', 'H'), ('T', 'T', 'T')}"
            ]
          },
          "metadata": {},
          "execution_count": 4
        }
      ]
    },
    {
      "cell_type": "code",
      "source": [
        "V={omega for omega in OMEGA if omega [2]==\"H\"}\n",
        "V"
      ],
      "metadata": {
        "colab": {
          "base_uri": "https://localhost:8080/"
        },
        "id": "kB8VAQXzLFp3",
        "outputId": "19009651-fe77-4153-866f-3caa45e78439"
      },
      "execution_count": null,
      "outputs": [
        {
          "output_type": "execute_result",
          "data": {
            "text/plain": [
              "{('H', 'H', 'H'), ('H', 'T', 'H'), ('T', 'H', 'H'), ('T', 'T', 'H')}"
            ]
          },
          "metadata": {},
          "execution_count": 5
        }
      ]
    },
    {
      "cell_type": "code",
      "source": [
        "A = T.intersection(U.intersection(V))\n",
        "A"
      ],
      "metadata": {
        "colab": {
          "base_uri": "https://localhost:8080/"
        },
        "id": "VIhxGuFTLLLS",
        "outputId": "d583ff52-f903-4e74-ff52-5325f0774d3a"
      },
      "execution_count": null,
      "outputs": [
        {
          "output_type": "execute_result",
          "data": {
            "text/plain": [
              "{('H', 'T', 'H')}"
            ]
          },
          "metadata": {},
          "execution_count": 6
        }
      ]
    },
    {
      "cell_type": "code",
      "source": [
        "P2= len (A) / len (OMEGA)\n",
        "P2"
      ],
      "metadata": {
        "colab": {
          "base_uri": "https://localhost:8080/"
        },
        "id": "hzVGKd9BLVsm",
        "outputId": "0161d503-2997-4e4c-f4ed-16b827e77f46"
      },
      "execution_count": null,
      "outputs": [
        {
          "output_type": "execute_result",
          "data": {
            "text/plain": [
              "0.125"
            ]
          },
          "metadata": {},
          "execution_count": 7
        }
      ]
    },
    {
      "cell_type": "markdown",
      "source": [
        " c. Cualquier sucesión con dos caras y un águila (en cualquier orden).\\n\",\n",
        "    \"    \\n\","
      ],
      "metadata": {
        "id": "II2r2ro4LiNU"
      }
    },
    {
      "cell_type": "code",
      "source": [
        "H = {omega for omega in OMEGA if omega.count(\"H\")==2 and omega.count(\"T\")==1}\n",
        "H"
      ],
      "metadata": {
        "colab": {
          "base_uri": "https://localhost:8080/"
        },
        "id": "g6pVLRJqLnMW",
        "outputId": "059687e5-27eb-4d02-eb3e-c767e4511d5d"
      },
      "execution_count": null,
      "outputs": [
        {
          "output_type": "execute_result",
          "data": {
            "text/plain": [
              "{('H', 'H', 'T'), ('H', 'T', 'H'), ('T', 'H', 'H')}"
            ]
          },
          "metadata": {},
          "execution_count": 8
        }
      ]
    },
    {
      "cell_type": "code",
      "source": [
        "P3= len(H)/len (OMEGA)\n",
        "P3"
      ],
      "metadata": {
        "colab": {
          "base_uri": "https://localhost:8080/"
        },
        "id": "i0LYp_5mMz6t",
        "outputId": "e78a0352-f414-4ec1-dadf-c891a930d8d9"
      },
      "execution_count": null,
      "outputs": [
        {
          "output_type": "execute_result",
          "data": {
            "text/plain": [
              "0.375"
            ]
          },
          "metadata": {},
          "execution_count": 9
        }
      ]
    },
    {
      "cell_type": "markdown",
      "source": [
        "d. Cualquier sucesión en donde el número de caras sea mayor o igual al número de      águilas.\""
      ],
      "metadata": {
        "id": "TYwkoRGqM-1p"
      }
    },
    {
      "cell_type": "code",
      "source": [
        "I = {omega for omega in OMEGA if (omega.count(\"H\") >= omega.count(\"T\"))}\n",
        "I"
      ],
      "metadata": {
        "colab": {
          "base_uri": "https://localhost:8080/"
        },
        "id": "yW4r2jLxNEbX",
        "outputId": "aa86302e-1c85-4179-b498-9c86f42149b1"
      },
      "execution_count": null,
      "outputs": [
        {
          "output_type": "execute_result",
          "data": {
            "text/plain": [
              "{('H', 'H', 'H'), ('H', 'H', 'T'), ('H', 'T', 'H'), ('T', 'H', 'H')}"
            ]
          },
          "metadata": {},
          "execution_count": 14
        }
      ]
    },
    {
      "cell_type": "code",
      "source": [
        "P4= len(I)/len (OMEGA)\n",
        "P4"
      ],
      "metadata": {
        "colab": {
          "base_uri": "https://localhost:8080/"
        },
        "id": "WPYbBpehNeJM",
        "outputId": "c35ff0b4-9ab2-4917-a271-504ad1e9ecd8"
      },
      "execution_count": null,
      "outputs": [
        {
          "output_type": "execute_result",
          "data": {
            "text/plain": [
              "0.5"
            ]
          },
          "metadata": {},
          "execution_count": 15
        }
      ]
    },
    {
      "cell_type": "markdown",
      "source": [
        "2. En el ejercicio anterior, calcula las probabilidades dado que sabes que cayó una cara en el primer lanzamiento"
      ],
      "metadata": {
        "id": "_hXbscNmPChM"
      }
    },
    {
      "cell_type": "code",
      "source": [
        "P5A= len (_3H.intersection(T)) / len (T)\n",
        "P5A"
      ],
      "metadata": {
        "colab": {
          "base_uri": "https://localhost:8080/"
        },
        "id": "YTvQ4f-HQhuT",
        "outputId": "6f841975-7471-4d00-ca51-a03dc46ba1a2"
      },
      "execution_count": null,
      "outputs": [
        {
          "output_type": "execute_result",
          "data": {
            "text/plain": [
              "0.25"
            ]
          },
          "metadata": {},
          "execution_count": 18
        }
      ]
    },
    {
      "cell_type": "code",
      "source": [
        "P6B= len (A.intersection(T)) / len (T)\n",
        "P6B"
      ],
      "metadata": {
        "colab": {
          "base_uri": "https://localhost:8080/"
        },
        "id": "MNkAhKvMX0dm",
        "outputId": "3efb6ae1-45f4-43a2-c7e1-5bf816a9d49e"
      },
      "execution_count": null,
      "outputs": [
        {
          "output_type": "execute_result",
          "data": {
            "text/plain": [
              "0.25"
            ]
          },
          "metadata": {},
          "execution_count": 19
        }
      ]
    },
    {
      "cell_type": "code",
      "source": [
        "P7C= len (H.intersection(T)) / len (T)\n",
        "P7C"
      ],
      "metadata": {
        "colab": {
          "base_uri": "https://localhost:8080/"
        },
        "id": "KJImyFgNYGlG",
        "outputId": "eaf48b97-93ea-428f-9cdd-c947d7da3d1f"
      },
      "execution_count": null,
      "outputs": [
        {
          "output_type": "execute_result",
          "data": {
            "text/plain": [
              "0.5"
            ]
          },
          "metadata": {},
          "execution_count": 20
        }
      ]
    },
    {
      "cell_type": "code",
      "source": [
        "P8D= len (I.intersection(T)) / len (T)\n",
        "P8D"
      ],
      "metadata": {
        "colab": {
          "base_uri": "https://localhost:8080/"
        },
        "id": "NDq8HuHCYY24",
        "outputId": "1fe281dc-246a-46ae-bf68-060c27fe63ff"
      },
      "execution_count": null,
      "outputs": [
        {
          "output_type": "execute_result",
          "data": {
            "text/plain": [
              "0.75"
            ]
          },
          "metadata": {},
          "execution_count": 21
        }
      ]
    },
    {
      "cell_type": "markdown",
      "source": [
        "3. Alicia y Samuel eligen al azar un número real entre cero y uno. Suponemos que el par de números se elige sobre el cuadrado unitario, de modo que la probabilidad de un evento es igual a su área. Definimos los siguientes eventos:\\n\","
      ],
      "metadata": {
        "id": "JZ19s4vORyJx"
      }
    },
    {
      "cell_type": "code",
      "source": [
        "import numpy as np\n",
        "A=np.random.random()\n",
        "A\n",
        "S=np.random.random()\n",
        "S\n",
        "abs(A-S)"
      ],
      "metadata": {
        "colab": {
          "base_uri": "https://localhost:8080/"
        },
        "id": "bnCiY4sNZkyL",
        "outputId": "d755a28b-28b2-4d5c-d2f8-2b4d2cf4e60b"
      },
      "execution_count": null,
      "outputs": [
        {
          "output_type": "execute_result",
          "data": {
            "text/plain": [
              "0.6645084798640861"
            ]
          },
          "metadata": {},
          "execution_count": 9
        }
      ]
    },
    {
      "cell_type": "markdown",
      "source": [
        " A: la magnitud de la diferencia de los dos números es mayor que $1/3$.\\n\","
      ],
      "metadata": {
        "id": "pYPklVupR2Ug"
      }
    },
    {
      "cell_type": "code",
      "source": [
        "abs(A-S)>1/3"
      ],
      "metadata": {
        "id": "UCGJjyReR2HL",
        "colab": {
          "base_uri": "https://localhost:8080/"
        },
        "outputId": "c52aa24e-de77-4e6a-b6de-07923cb1555f"
      },
      "execution_count": null,
      "outputs": [
        {
          "output_type": "execute_result",
          "data": {
            "text/plain": [
              "True"
            ]
          },
          "metadata": {},
          "execution_count": 10
        }
      ]
    },
    {
      "cell_type": "code",
      "source": [
        "pip install python-intervals==1.4.0"
      ],
      "metadata": {
        "colab": {
          "base_uri": "https://localhost:8080/"
        },
        "id": "ndHV6t6Uw-aS",
        "outputId": "14f70e2e-1ce0-4123-9c70-7f41b6aa0e26"
      },
      "execution_count": null,
      "outputs": [
        {
          "output_type": "stream",
          "name": "stdout",
          "text": [
            "Looking in indexes: https://pypi.org/simple, https://us-python.pkg.dev/colab-wheels/public/simple/\n",
            "Collecting python-intervals==1.4.0\n",
            "  Downloading python_intervals-1.4.0-py2.py3-none-any.whl (10 kB)\n",
            "Installing collected packages: python-intervals\n",
            "Successfully installed python-intervals-1.4.0\n"
          ]
        }
      ]
    },
    {
      "cell_type": "code",
      "source": [
        "import intervals as I\n",
        "I.open(0)"
      ],
      "metadata": {
        "id": "GZ2LPM24tSgB"
      },
      "execution_count": null,
      "outputs": []
    },
    {
      "cell_type": "code",
      "source": [
        "#bernardo\n",
        "k = 0\n",
        "loops=100000\n",
        "for x in range(loops):\n",
        "  A=np.random.random()\n",
        "  S=np.random.random()\n",
        "  if abs(A-S) >1/3:\n",
        "    k=+1\n",
        "\n",
        "k/loops\n"
      ],
      "metadata": {
        "colab": {
          "base_uri": "https://localhost:8080/"
        },
        "id": "_pEQlPx-uTRs",
        "outputId": "229d6cb3-4132-4488-c42e-9ea63e1d5676"
      },
      "execution_count": null,
      "outputs": [
        {
          "output_type": "execute_result",
          "data": {
            "text/plain": [
              "1e-05"
            ]
          },
          "metadata": {},
          "execution_count": 22
        }
      ]
    },
    {
      "cell_type": "markdown",
      "source": [
        "B: Al menos uno de los números es mayor que $1/4$.\\n\""
      ],
      "metadata": {
        "id": "8ToV4q4TR821"
      }
    },
    {
      "cell_type": "code",
      "source": [
        "P= {aleatorios2 for aleatorios2 in aleatorios if (aleatorios2[0] > 1/4 or aleatorios2[1] > 1/4)}\n",
        "P"
      ],
      "metadata": {
        "id": "AWsg74WBR_3E"
      },
      "execution_count": null,
      "outputs": []
    },
    {
      "cell_type": "markdown",
      "source": [
        " C: LA suma de los dos números es $1$.\\n\","
      ],
      "metadata": {
        "id": "o194wLRXSAEo"
      }
    },
    {
      "cell_type": "code",
      "source": [
        "Q = {aleatorios3 for aleatorios3 in aleatorios if (aleatorios3[0] + aleatorios3[1] ==1)}\n",
        "Q\n",
        "P11= len (Q)/ len (aleatorios)\n",
        "P11"
      ],
      "metadata": {
        "colab": {
          "base_uri": "https://localhost:8080/"
        },
        "id": "-b-lG2rySDOA",
        "outputId": "2675d315-6c9a-41c3-d86b-4807cecbe79e"
      },
      "execution_count": null,
      "outputs": [
        {
          "output_type": "execute_result",
          "data": {
            "text/plain": [
              "0.0"
            ]
          },
          "metadata": {},
          "execution_count": 38
        }
      ]
    },
    {
      "cell_type": "markdown",
      "source": [
        "D: El número de Alicia es mayor que $1/4$\\n\","
      ],
      "metadata": {
        "id": "2tg-e6o5SDhM"
      }
    },
    {
      "cell_type": "code",
      "source": [
        "R = {aleatorios4 for aleatorios4 in aleatorios if (aleatorios4[0] > 1/4)}\n",
        "R"
      ],
      "metadata": {
        "id": "ZyI66Zw4SQg-"
      },
      "execution_count": null,
      "outputs": []
    },
    {
      "cell_type": "markdown",
      "source": [
        "4. Simula una sucesión de $5$ volados simultáneos (1 muestreo) con monedas honestas que consista de 100 observaciones. Registra tus datos en un DataFrame de Pandas"
      ],
      "metadata": {
        "id": "xFjG6LDpSQMC"
      }
    },
    {
      "cell_type": "code",
      "source": [
        "#vamos a crear una matriz cuyos elementos registren el resultado de volados, aguila es 0 y sol es 1\n",
        "#creamos un dataframe para meter todo\n",
        "#aventamos 5 monedas, repetimos 100 veces, son 500\n",
        "\n",
        "import pandas as pd\n",
        "\n",
        "df500 = pd.DataFrame()\n",
        "#lanzamiento de 1 moneda, el 0.5 es la probabilidad, 5 es el tamaño de la muestra o sea 5 monedas, aviento una moneda 5 veces\n",
        "for i in range (1,101):\n",
        "  volados_muestra = np.random.binomial(1,0.5,5) \n",
        "  columna = f\"muestra {i}\"\n",
        "  df500[columna]=volados_muestra\n",
        "\n",
        "df500"
      ],
      "metadata": {
        "colab": {
          "base_uri": "https://localhost:8080/",
          "height": 317
        },
        "id": "F_TLSitLSvHj",
        "outputId": "4e6e788e-c3de-4967-cb99-448d40c9f3f1"
      },
      "execution_count": null,
      "outputs": [
        {
          "output_type": "execute_result",
          "data": {
            "text/plain": [
              "   muestra 1  muestra 2  muestra 3  muestra 4  muestra 5  muestra 6  \\\n",
              "0          0          0          1          0          0          0   \n",
              "1          1          1          1          0          0          0   \n",
              "2          0          1          0          0          1          0   \n",
              "3          0          1          0          1          1          0   \n",
              "4          0          0          0          0          0          0   \n",
              "\n",
              "   muestra 7  muestra 8  muestra 9  muestra 10  ...  muestra 91  muestra 92  \\\n",
              "0          1          1          1           0  ...           1           1   \n",
              "1          0          1          1           0  ...           1           1   \n",
              "2          1          0          1           0  ...           0           1   \n",
              "3          1          1          1           1  ...           1           1   \n",
              "4          1          1          1           1  ...           1           0   \n",
              "\n",
              "   muestra 93  muestra 94  muestra 95  muestra 96  muestra 97  muestra 98  \\\n",
              "0           0           1           1           0           1           1   \n",
              "1           1           0           0           0           0           1   \n",
              "2           0           0           1           0           1           0   \n",
              "3           1           0           1           0           1           1   \n",
              "4           0           1           1           0           0           0   \n",
              "\n",
              "   muestra 99  muestra 100  \n",
              "0           0            1  \n",
              "1           1            0  \n",
              "2           1            1  \n",
              "3           1            1  \n",
              "4           1            1  \n",
              "\n",
              "[5 rows x 100 columns]"
            ],
            "text/html": [
              "\n",
              "  <div id=\"df-1efb6d7e-7e93-4e8c-ba0f-534eba234d27\">\n",
              "    <div class=\"colab-df-container\">\n",
              "      <div>\n",
              "<style scoped>\n",
              "    .dataframe tbody tr th:only-of-type {\n",
              "        vertical-align: middle;\n",
              "    }\n",
              "\n",
              "    .dataframe tbody tr th {\n",
              "        vertical-align: top;\n",
              "    }\n",
              "\n",
              "    .dataframe thead th {\n",
              "        text-align: right;\n",
              "    }\n",
              "</style>\n",
              "<table border=\"1\" class=\"dataframe\">\n",
              "  <thead>\n",
              "    <tr style=\"text-align: right;\">\n",
              "      <th></th>\n",
              "      <th>muestra 1</th>\n",
              "      <th>muestra 2</th>\n",
              "      <th>muestra 3</th>\n",
              "      <th>muestra 4</th>\n",
              "      <th>muestra 5</th>\n",
              "      <th>muestra 6</th>\n",
              "      <th>muestra 7</th>\n",
              "      <th>muestra 8</th>\n",
              "      <th>muestra 9</th>\n",
              "      <th>muestra 10</th>\n",
              "      <th>...</th>\n",
              "      <th>muestra 91</th>\n",
              "      <th>muestra 92</th>\n",
              "      <th>muestra 93</th>\n",
              "      <th>muestra 94</th>\n",
              "      <th>muestra 95</th>\n",
              "      <th>muestra 96</th>\n",
              "      <th>muestra 97</th>\n",
              "      <th>muestra 98</th>\n",
              "      <th>muestra 99</th>\n",
              "      <th>muestra 100</th>\n",
              "    </tr>\n",
              "  </thead>\n",
              "  <tbody>\n",
              "    <tr>\n",
              "      <th>0</th>\n",
              "      <td>0</td>\n",
              "      <td>0</td>\n",
              "      <td>1</td>\n",
              "      <td>0</td>\n",
              "      <td>0</td>\n",
              "      <td>0</td>\n",
              "      <td>1</td>\n",
              "      <td>1</td>\n",
              "      <td>1</td>\n",
              "      <td>0</td>\n",
              "      <td>...</td>\n",
              "      <td>1</td>\n",
              "      <td>1</td>\n",
              "      <td>0</td>\n",
              "      <td>1</td>\n",
              "      <td>1</td>\n",
              "      <td>0</td>\n",
              "      <td>1</td>\n",
              "      <td>1</td>\n",
              "      <td>0</td>\n",
              "      <td>1</td>\n",
              "    </tr>\n",
              "    <tr>\n",
              "      <th>1</th>\n",
              "      <td>1</td>\n",
              "      <td>1</td>\n",
              "      <td>1</td>\n",
              "      <td>0</td>\n",
              "      <td>0</td>\n",
              "      <td>0</td>\n",
              "      <td>0</td>\n",
              "      <td>1</td>\n",
              "      <td>1</td>\n",
              "      <td>0</td>\n",
              "      <td>...</td>\n",
              "      <td>1</td>\n",
              "      <td>1</td>\n",
              "      <td>1</td>\n",
              "      <td>0</td>\n",
              "      <td>0</td>\n",
              "      <td>0</td>\n",
              "      <td>0</td>\n",
              "      <td>1</td>\n",
              "      <td>1</td>\n",
              "      <td>0</td>\n",
              "    </tr>\n",
              "    <tr>\n",
              "      <th>2</th>\n",
              "      <td>0</td>\n",
              "      <td>1</td>\n",
              "      <td>0</td>\n",
              "      <td>0</td>\n",
              "      <td>1</td>\n",
              "      <td>0</td>\n",
              "      <td>1</td>\n",
              "      <td>0</td>\n",
              "      <td>1</td>\n",
              "      <td>0</td>\n",
              "      <td>...</td>\n",
              "      <td>0</td>\n",
              "      <td>1</td>\n",
              "      <td>0</td>\n",
              "      <td>0</td>\n",
              "      <td>1</td>\n",
              "      <td>0</td>\n",
              "      <td>1</td>\n",
              "      <td>0</td>\n",
              "      <td>1</td>\n",
              "      <td>1</td>\n",
              "    </tr>\n",
              "    <tr>\n",
              "      <th>3</th>\n",
              "      <td>0</td>\n",
              "      <td>1</td>\n",
              "      <td>0</td>\n",
              "      <td>1</td>\n",
              "      <td>1</td>\n",
              "      <td>0</td>\n",
              "      <td>1</td>\n",
              "      <td>1</td>\n",
              "      <td>1</td>\n",
              "      <td>1</td>\n",
              "      <td>...</td>\n",
              "      <td>1</td>\n",
              "      <td>1</td>\n",
              "      <td>1</td>\n",
              "      <td>0</td>\n",
              "      <td>1</td>\n",
              "      <td>0</td>\n",
              "      <td>1</td>\n",
              "      <td>1</td>\n",
              "      <td>1</td>\n",
              "      <td>1</td>\n",
              "    </tr>\n",
              "    <tr>\n",
              "      <th>4</th>\n",
              "      <td>0</td>\n",
              "      <td>0</td>\n",
              "      <td>0</td>\n",
              "      <td>0</td>\n",
              "      <td>0</td>\n",
              "      <td>0</td>\n",
              "      <td>1</td>\n",
              "      <td>1</td>\n",
              "      <td>1</td>\n",
              "      <td>1</td>\n",
              "      <td>...</td>\n",
              "      <td>1</td>\n",
              "      <td>0</td>\n",
              "      <td>0</td>\n",
              "      <td>1</td>\n",
              "      <td>1</td>\n",
              "      <td>0</td>\n",
              "      <td>0</td>\n",
              "      <td>0</td>\n",
              "      <td>1</td>\n",
              "      <td>1</td>\n",
              "    </tr>\n",
              "  </tbody>\n",
              "</table>\n",
              "<p>5 rows × 100 columns</p>\n",
              "</div>\n",
              "      <button class=\"colab-df-convert\" onclick=\"convertToInteractive('df-1efb6d7e-7e93-4e8c-ba0f-534eba234d27')\"\n",
              "              title=\"Convert this dataframe to an interactive table.\"\n",
              "              style=\"display:none;\">\n",
              "        \n",
              "  <svg xmlns=\"http://www.w3.org/2000/svg\" height=\"24px\"viewBox=\"0 0 24 24\"\n",
              "       width=\"24px\">\n",
              "    <path d=\"M0 0h24v24H0V0z\" fill=\"none\"/>\n",
              "    <path d=\"M18.56 5.44l.94 2.06.94-2.06 2.06-.94-2.06-.94-.94-2.06-.94 2.06-2.06.94zm-11 1L8.5 8.5l.94-2.06 2.06-.94-2.06-.94L8.5 2.5l-.94 2.06-2.06.94zm10 10l.94 2.06.94-2.06 2.06-.94-2.06-.94-.94-2.06-.94 2.06-2.06.94z\"/><path d=\"M17.41 7.96l-1.37-1.37c-.4-.4-.92-.59-1.43-.59-.52 0-1.04.2-1.43.59L10.3 9.45l-7.72 7.72c-.78.78-.78 2.05 0 2.83L4 21.41c.39.39.9.59 1.41.59.51 0 1.02-.2 1.41-.59l7.78-7.78 2.81-2.81c.8-.78.8-2.07 0-2.86zM5.41 20L4 18.59l7.72-7.72 1.47 1.35L5.41 20z\"/>\n",
              "  </svg>\n",
              "      </button>\n",
              "      \n",
              "  <style>\n",
              "    .colab-df-container {\n",
              "      display:flex;\n",
              "      flex-wrap:wrap;\n",
              "      gap: 12px;\n",
              "    }\n",
              "\n",
              "    .colab-df-convert {\n",
              "      background-color: #E8F0FE;\n",
              "      border: none;\n",
              "      border-radius: 50%;\n",
              "      cursor: pointer;\n",
              "      display: none;\n",
              "      fill: #1967D2;\n",
              "      height: 32px;\n",
              "      padding: 0 0 0 0;\n",
              "      width: 32px;\n",
              "    }\n",
              "\n",
              "    .colab-df-convert:hover {\n",
              "      background-color: #E2EBFA;\n",
              "      box-shadow: 0px 1px 2px rgba(60, 64, 67, 0.3), 0px 1px 3px 1px rgba(60, 64, 67, 0.15);\n",
              "      fill: #174EA6;\n",
              "    }\n",
              "\n",
              "    [theme=dark] .colab-df-convert {\n",
              "      background-color: #3B4455;\n",
              "      fill: #D2E3FC;\n",
              "    }\n",
              "\n",
              "    [theme=dark] .colab-df-convert:hover {\n",
              "      background-color: #434B5C;\n",
              "      box-shadow: 0px 1px 3px 1px rgba(0, 0, 0, 0.15);\n",
              "      filter: drop-shadow(0px 1px 2px rgba(0, 0, 0, 0.3));\n",
              "      fill: #FFFFFF;\n",
              "    }\n",
              "  </style>\n",
              "\n",
              "      <script>\n",
              "        const buttonEl =\n",
              "          document.querySelector('#df-1efb6d7e-7e93-4e8c-ba0f-534eba234d27 button.colab-df-convert');\n",
              "        buttonEl.style.display =\n",
              "          google.colab.kernel.accessAllowed ? 'block' : 'none';\n",
              "\n",
              "        async function convertToInteractive(key) {\n",
              "          const element = document.querySelector('#df-1efb6d7e-7e93-4e8c-ba0f-534eba234d27');\n",
              "          const dataTable =\n",
              "            await google.colab.kernel.invokeFunction('convertToInteractive',\n",
              "                                                     [key], {});\n",
              "          if (!dataTable) return;\n",
              "\n",
              "          const docLinkHtml = 'Like what you see? Visit the ' +\n",
              "            '<a target=\"_blank\" href=https://colab.research.google.com/notebooks/data_table.ipynb>data table notebook</a>'\n",
              "            + ' to learn more about interactive tables.';\n",
              "          element.innerHTML = '';\n",
              "          dataTable['output_type'] = 'display_data';\n",
              "          await google.colab.output.renderOutput(dataTable, element);\n",
              "          const docLink = document.createElement('div');\n",
              "          docLink.innerHTML = docLinkHtml;\n",
              "          element.appendChild(docLink);\n",
              "        }\n",
              "      </script>\n",
              "    </div>\n",
              "  </div>\n",
              "  "
            ]
          },
          "metadata": {},
          "execution_count": 45
        }
      ]
    },
    {
      "cell_type": "code",
      "source": [
        "OMEGA1M=np.array(OMEGA1)\n",
        "OMEGA1M\n",
        "np.matmul(OMEGA1M, 100)"
      ],
      "metadata": {
        "id": "YUtlKeNLgVt5"
      },
      "execution_count": null,
      "outputs": []
    }
  ]
}