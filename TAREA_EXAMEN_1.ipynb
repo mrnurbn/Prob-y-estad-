{
  "nbformat": 4,
  "nbformat_minor": 0,
  "metadata": {
    "colab": {
      "provenance": [],
      "collapsed_sections": [
        "_J4W9j2KBLsW",
        "cJz911IQKdXx",
        "zqkxaYzdwTI0",
        "BQolKYs9xb7S"
      ]
    },
    "kernelspec": {
      "name": "python3",
      "display_name": "Python 3"
    },
    "language_info": {
      "name": "python"
    }
  },
  "cells": [
    {
      "cell_type": "code",
      "source": [],
      "metadata": {
        "id": "3_v2qjgfb3tW"
      },
      "execution_count": null,
      "outputs": []
    },
    {
      "cell_type": "markdown",
      "source": [
        "MARIANA URBINA\n",
        "TAREA EXAMEN\n"
      ],
      "metadata": {
        "id": "Y6L-QO-XmpL-"
      }
    },
    {
      "cell_type": "markdown",
      "source": [
        "#1. EN UN SALÓN HAY 60 ALUMNOS, 30 ESTUDIAN FRANCÉS, 35 RUSO Y 5 ESTUDIAN FRANCÉS Y RUSO. DIBUJA UN DIAGRAMA DE VENN Y CALCULA LA PROBABILIDAD DE QUE SI SE ELIGE UN SOLO ESTUDIANTE AL AZAR ÉSTE SOLO ESTUDIE FRANCÉS"
      ],
      "metadata": {
        "id": "ZIyRLjDMmy8L"
      }
    },
    {
      "cell_type": "code",
      "execution_count": null,
      "metadata": {
        "id": "wTC6vukRlzBo"
      },
      "outputs": [],
      "source": [
        "from matplotlib_venn import venn2, venn2_circles, venn2_unweighted\n",
        "from matplotlib_venn import venn3, venn3_circles\n",
        "from matplotlib import pyplot as plt"
      ]
    },
    {
      "cell_type": "code",
      "source": [
        "venn2(subsets=(25, 30, 5), set_labels =(\"francés\", \"ruso\"))"
      ],
      "metadata": {
        "colab": {
          "base_uri": "https://localhost:8080/",
          "height": 266
        },
        "id": "GKgeV-l7miN7",
        "outputId": "6af3cc7c-6bb8-46cc-97e6-0139c05dfeac"
      },
      "execution_count": null,
      "outputs": [
        {
          "output_type": "execute_result",
          "data": {
            "text/plain": [
              "<matplotlib_venn._common.VennDiagram at 0x7f75dad79ad0>"
            ]
          },
          "metadata": {},
          "execution_count": 42
        },
        {
          "output_type": "display_data",
          "data": {
            "text/plain": [
              "<Figure size 432x288 with 1 Axes>"
            ],
            "image/png": "[encoded data removed]"
          },
          "metadata": {}
        }
      ]
    },
    {
      "cell_type": "code",
      "source": [
        "#solo estudian francés\n",
        "pF= 25/60\n",
        "pF"
      ],
      "metadata": {
        "colab": {
          "base_uri": "https://localhost:8080/"
        },
        "id": "iEdHvLQFTpAn",
        "outputId": "0b454851-03be-4472-a456-5949bf8c4be5"
      },
      "execution_count": null,
      "outputs": [
        {
          "output_type": "execute_result",
          "data": {
            "text/plain": [
              "0.4166666666666667"
            ]
          },
          "metadata": {},
          "execution_count": 47
        }
      ]
    },
    {
      "cell_type": "markdown",
      "source": [
        "#2. SE LANZA UN DADO 3 VECES \n",
        "DESCRIBE EL ESPACIO MUESTRAL\n",
        "CALCULA LA PROBABILIDAD DE QUE SALGA 1 EN EL 1ER LANZAMIENTO\n",
        "CALCULA LA PROBABILIDAD CONDICIONAL DEL EVENTO CAE UN NÚMERO PAR EN LOS 3 LANZAMIENTOS DADO QUE EL PRIMER LANZAMIENTO CAE 2 "
      ],
      "metadata": {
        "id": "ydxcUC3VrlAD"
      }
    },
    {
      "cell_type": "code",
      "source": [
        "#ESPACIO MUESTRAL\n",
        "import itertools\n",
        "from itertools import product\n",
        "OMEGA = set(product([1,2,3,4,5,6],repeat = 3))\n",
        "OMEGA"
      ],
      "metadata": {
        "id": "9kLggbBksEBR",
        "colab": {
          "base_uri": "https://localhost:8080/"
        },
        "outputId": "7b594898-fb80-4ee2-b834-372824792f8d"
      },
      "execution_count": null,
      "outputs": [
        {
          "output_type": "execute_result",
          "data": {
            "text/plain": [
              "{(1, 1, 1),\n",
              " (1, 1, 2),\n",
              " (1, 1, 3),\n",
              " (1, 1, 4),\n",
              " (1, 1, 5),\n",
              " (1, 1, 6),\n",
              " (1, 2, 1),\n",
              " (1, 2, 2),\n",
              " (1, 2, 3),\n",
              " (1, 2, 4),\n",
              " (1, 2, 5),\n",
              " (1, 2, 6),\n",
              " (1, 3, 1),\n",
              " (1, 3, 2),\n",
              " (1, 3, 3),\n",
              " (1, 3, 4),\n",
              " (1, 3, 5),\n",
              " (1, 3, 6),\n",
              " (1, 4, 1),\n",
              " (1, 4, 2),\n",
              " (1, 4, 3),\n",
              " (1, 4, 4),\n",
              " (1, 4, 5),\n",
              " (1, 4, 6),\n",
              " (1, 5, 1),\n",
              " (1, 5, 2),\n",
              " (1, 5, 3),\n",
              " (1, 5, 4),\n",
              " (1, 5, 5),\n",
              " (1, 5, 6),\n",
              " (1, 6, 1),\n",
              " (1, 6, 2),\n",
              " (1, 6, 3),\n",
              " (1, 6, 4),\n",
              " (1, 6, 5),\n",
              " (1, 6, 6),\n",
              " (2, 1, 1),\n",
              " (2, 1, 2),\n",
              " (2, 1, 3),\n",
              " (2, 1, 4),\n",
              " (2, 1, 5),\n",
              " (2, 1, 6),\n",
              " (2, 2, 1),\n",
              " (2, 2, 2),\n",
              " (2, 2, 3),\n",
              " (2, 2, 4),\n",
              " (2, 2, 5),\n",
              " (2, 2, 6),\n",
              " (2, 3, 1),\n",
              " (2, 3, 2),\n",
              " (2, 3, 3),\n",
              " (2, 3, 4),\n",
              " (2, 3, 5),\n",
              " (2, 3, 6),\n",
              " (2, 4, 1),\n",
              " (2, 4, 2),\n",
              " (2, 4, 3),\n",
              " (2, 4, 4),\n",
              " (2, 4, 5),\n",
              " (2, 4, 6),\n",
              " (2, 5, 1),\n",
              " (2, 5, 2),\n",
              " (2, 5, 3),\n",
              " (2, 5, 4),\n",
              " (2, 5, 5),\n",
              " (2, 5, 6),\n",
              " (2, 6, 1),\n",
              " (2, 6, 2),\n",
              " (2, 6, 3),\n",
              " (2, 6, 4),\n",
              " (2, 6, 5),\n",
              " (2, 6, 6),\n",
              " (3, 1, 1),\n",
              " (3, 1, 2),\n",
              " (3, 1, 3),\n",
              " (3, 1, 4),\n",
              " (3, 1, 5),\n",
              " (3, 1, 6),\n",
              " (3, 2, 1),\n",
              " (3, 2, 2),\n",
              " (3, 2, 3),\n",
              " (3, 2, 4),\n",
              " (3, 2, 5),\n",
              " (3, 2, 6),\n",
              " (3, 3, 1),\n",
              " (3, 3, 2),\n",
              " (3, 3, 3),\n",
              " (3, 3, 4),\n",
              " (3, 3, 5),\n",
              " (3, 3, 6),\n",
              " (3, 4, 1),\n",
              " (3, 4, 2),\n",
              " (3, 4, 3),\n",
              " (3, 4, 4),\n",
              " (3, 4, 5),\n",
              " (3, 4, 6),\n",
              " (3, 5, 1),\n",
              " (3, 5, 2),\n",
              " (3, 5, 3),\n",
              " (3, 5, 4),\n",
              " (3, 5, 5),\n",
              " (3, 5, 6),\n",
              " (3, 6, 1),\n",
              " (3, 6, 2),\n",
              " (3, 6, 3),\n",
              " (3, 6, 4),\n",
              " (3, 6, 5),\n",
              " (3, 6, 6),\n",
              " (4, 1, 1),\n",
              " (4, 1, 2),\n",
              " (4, 1, 3),\n",
              " (4, 1, 4),\n",
              " (4, 1, 5),\n",
              " (4, 1, 6),\n",
              " (4, 2, 1),\n",
              " (4, 2, 2),\n",
              " (4, 2, 3),\n",
              " (4, 2, 4),\n",
              " (4, 2, 5),\n",
              " (4, 2, 6),\n",
              " (4, 3, 1),\n",
              " (4, 3, 2),\n",
              " (4, 3, 3),\n",
              " (4, 3, 4),\n",
              " (4, 3, 5),\n",
              " (4, 3, 6),\n",
              " (4, 4, 1),\n",
              " (4, 4, 2),\n",
              " (4, 4, 3),\n",
              " (4, 4, 4),\n",
              " (4, 4, 5),\n",
              " (4, 4, 6),\n",
              " (4, 5, 1),\n",
              " (4, 5, 2),\n",
              " (4, 5, 3),\n",
              " (4, 5, 4),\n",
              " (4, 5, 5),\n",
              " (4, 5, 6),\n",
              " (4, 6, 1),\n",
              " (4, 6, 2),\n",
              " (4, 6, 3),\n",
              " (4, 6, 4),\n",
              " (4, 6, 5),\n",
              " (4, 6, 6),\n",
              " (5, 1, 1),\n",
              " (5, 1, 2),\n",
              " (5, 1, 3),\n",
              " (5, 1, 4),\n",
              " (5, 1, 5),\n",
              " (5, 1, 6),\n",
              " (5, 2, 1),\n",
              " (5, 2, 2),\n",
              " (5, 2, 3),\n",
              " (5, 2, 4),\n",
              " (5, 2, 5),\n",
              " (5, 2, 6),\n",
              " (5, 3, 1),\n",
              " (5, 3, 2),\n",
              " (5, 3, 3),\n",
              " (5, 3, 4),\n",
              " (5, 3, 5),\n",
              " (5, 3, 6),\n",
              " (5, 4, 1),\n",
              " (5, 4, 2),\n",
              " (5, 4, 3),\n",
              " (5, 4, 4),\n",
              " (5, 4, 5),\n",
              " (5, 4, 6),\n",
              " (5, 5, 1),\n",
              " (5, 5, 2),\n",
              " (5, 5, 3),\n",
              " (5, 5, 4),\n",
              " (5, 5, 5),\n",
              " (5, 5, 6),\n",
              " (5, 6, 1),\n",
              " (5, 6, 2),\n",
              " (5, 6, 3),\n",
              " (5, 6, 4),\n",
              " (5, 6, 5),\n",
              " (5, 6, 6),\n",
              " (6, 1, 1),\n",
              " (6, 1, 2),\n",
              " (6, 1, 3),\n",
              " (6, 1, 4),\n",
              " (6, 1, 5),\n",
              " (6, 1, 6),\n",
              " (6, 2, 1),\n",
              " (6, 2, 2),\n",
              " (6, 2, 3),\n",
              " (6, 2, 4),\n",
              " (6, 2, 5),\n",
              " (6, 2, 6),\n",
              " (6, 3, 1),\n",
              " (6, 3, 2),\n",
              " (6, 3, 3),\n",
              " (6, 3, 4),\n",
              " (6, 3, 5),\n",
              " (6, 3, 6),\n",
              " (6, 4, 1),\n",
              " (6, 4, 2),\n",
              " (6, 4, 3),\n",
              " (6, 4, 4),\n",
              " (6, 4, 5),\n",
              " (6, 4, 6),\n",
              " (6, 5, 1),\n",
              " (6, 5, 2),\n",
              " (6, 5, 3),\n",
              " (6, 5, 4),\n",
              " (6, 5, 5),\n",
              " (6, 5, 6),\n",
              " (6, 6, 1),\n",
              " (6, 6, 2),\n",
              " (6, 6, 3),\n",
              " (6, 6, 4),\n",
              " (6, 6, 5),\n",
              " (6, 6, 6)}"
            ]
          },
          "metadata": {},
          "execution_count": 6
        }
      ]
    },
    {
      "cell_type": "code",
      "source": [
        "len (OMEGA)"
      ],
      "metadata": {
        "id": "bdyIY4vGswEV",
        "colab": {
          "base_uri": "https://localhost:8080/"
        },
        "outputId": "b8328d1b-8e90-4579-c958-efb4147ac4ea"
      },
      "execution_count": null,
      "outputs": [
        {
          "output_type": "execute_result",
          "data": {
            "text/plain": [
              "216"
            ]
          },
          "metadata": {},
          "execution_count": 51
        }
      ]
    },
    {
      "cell_type": "code",
      "source": [
        "#PROBABILIDAD DE QUE SALE 1 EN EL 1ER LANZAMIENTO\n",
        "U={omega for omega in OMEGA if omega[0] ==1}\n",
        "U"
      ],
      "metadata": {
        "id": "PYGLq6pNs4JF",
        "colab": {
          "base_uri": "https://localhost:8080/"
        },
        "outputId": "d96ace31-47ff-4cb4-f273-101129615b13"
      },
      "execution_count": null,
      "outputs": [
        {
          "output_type": "execute_result",
          "data": {
            "text/plain": [
              "{(1, 1, 1),\n",
              " (1, 1, 2),\n",
              " (1, 1, 3),\n",
              " (1, 1, 4),\n",
              " (1, 1, 5),\n",
              " (1, 1, 6),\n",
              " (1, 2, 1),\n",
              " (1, 2, 2),\n",
              " (1, 2, 3),\n",
              " (1, 2, 4),\n",
              " (1, 2, 5),\n",
              " (1, 2, 6),\n",
              " (1, 3, 1),\n",
              " (1, 3, 2),\n",
              " (1, 3, 3),\n",
              " (1, 3, 4),\n",
              " (1, 3, 5),\n",
              " (1, 3, 6),\n",
              " (1, 4, 1),\n",
              " (1, 4, 2),\n",
              " (1, 4, 3),\n",
              " (1, 4, 4),\n",
              " (1, 4, 5),\n",
              " (1, 4, 6),\n",
              " (1, 5, 1),\n",
              " (1, 5, 2),\n",
              " (1, 5, 3),\n",
              " (1, 5, 4),\n",
              " (1, 5, 5),\n",
              " (1, 5, 6),\n",
              " (1, 6, 1),\n",
              " (1, 6, 2),\n",
              " (1, 6, 3),\n",
              " (1, 6, 4),\n",
              " (1, 6, 5),\n",
              " (1, 6, 6)}"
            ]
          },
          "metadata": {},
          "execution_count": 14
        }
      ]
    },
    {
      "cell_type": "code",
      "source": [
        "p1= len (U)/ len (OMEGA)\n",
        "p1"
      ],
      "metadata": {
        "colab": {
          "base_uri": "https://localhost:8080/"
        },
        "id": "51tl5_fltZPa",
        "outputId": "dafb39b2-c5e1-4fe5-8d38-52bf0b506ef5"
      },
      "execution_count": null,
      "outputs": [
        {
          "output_type": "execute_result",
          "data": {
            "text/plain": [
              "0.16666666666666666"
            ]
          },
          "metadata": {},
          "execution_count": 15
        }
      ]
    },
    {
      "cell_type": "code",
      "source": [
        "#cae par en los 3 lanzamientos dado que el primer lanzamiento cae 2 \n",
        "c= {omega for omega in OMEGA if omega[1] % 2== 0 and omega[2] % 2== 0}\n",
        "b ={omega for omega in OMEGA if omega[0] ==2}\n"
      ],
      "metadata": {
        "id": "qatBCXzEt2Cg"
      },
      "execution_count": null,
      "outputs": []
    },
    {
      "cell_type": "code",
      "source": [
        "d=b.intersection(c)\n",
        "d"
      ],
      "metadata": {
        "colab": {
          "base_uri": "https://localhost:8080/"
        },
        "id": "KjcT-Rksh5cH",
        "outputId": "f269d5ac-30e1-4f40-e7a1-c9e9c7698684"
      },
      "execution_count": null,
      "outputs": [
        {
          "output_type": "execute_result",
          "data": {
            "text/plain": [
              "{(2, 2, 2),\n",
              " (2, 2, 4),\n",
              " (2, 2, 6),\n",
              " (2, 4, 2),\n",
              " (2, 4, 4),\n",
              " (2, 4, 6),\n",
              " (2, 6, 2),\n",
              " (2, 6, 4),\n",
              " (2, 6, 6)}"
            ]
          },
          "metadata": {},
          "execution_count": 20
        }
      ]
    },
    {
      "cell_type": "code",
      "source": [
        "probabilidadfinal= len(b.intersection(c))/len(OMEGA)\n",
        "probabilidadfinal"
      ],
      "metadata": {
        "id": "yHDjRcKsvGLJ",
        "colab": {
          "base_uri": "https://localhost:8080/"
        },
        "outputId": "70472d55-bee2-45b8-d17f-dab14807b71f"
      },
      "execution_count": null,
      "outputs": [
        {
          "output_type": "execute_result",
          "data": {
            "text/plain": [
              "0.041666666666666664"
            ]
          },
          "metadata": {},
          "execution_count": 21
        }
      ]
    },
    {
      "cell_type": "markdown",
      "source": [
        "CONSIDEREMOS EL EVENTO \"SE OBTIENE SOL EN EL 2DO LANZAMIENTO\" TAL EVENTO ES INDEPENDIENTE DE LOS EVENTOS ANTERIORES?"
      ],
      "metadata": {
        "id": "5amrpsmksvhk"
      }
    },
    {
      "cell_type": "code",
      "source": [
        "moneda = set(product([\"A\", \"S\"],repeat = 3))\n",
        "moneda"
      ],
      "metadata": {
        "colab": {
          "base_uri": "https://localhost:8080/"
        },
        "id": "LsxYJXMElhmF",
        "outputId": "436d569b-25ca-4c7b-d494-f26bd8ca7057"
      },
      "execution_count": null,
      "outputs": [
        {
          "output_type": "execute_result",
          "data": {
            "text/plain": [
              "{('A', 'A', 'A'),\n",
              " ('A', 'A', 'S'),\n",
              " ('A', 'S', 'A'),\n",
              " ('A', 'S', 'S'),\n",
              " ('S', 'A', 'A'),\n",
              " ('S', 'A', 'S'),\n",
              " ('S', 'S', 'A'),\n",
              " ('S', 'S', 'S')}"
            ]
          },
          "metadata": {},
          "execution_count": 7
        }
      ]
    },
    {
      "cell_type": "code",
      "source": [
        "sol={ome for ome in moneda if ome[1]== \"S\"}\n",
        "sol"
      ],
      "metadata": {
        "colab": {
          "base_uri": "https://localhost:8080/"
        },
        "id": "6CpPg-zb0EZt",
        "outputId": "88d76afe-0563-478d-80c9-c07ef5c76404"
      },
      "execution_count": null,
      "outputs": [
        {
          "output_type": "execute_result",
          "data": {
            "text/plain": [
              "{('A', 'S', 'A'), ('A', 'S', 'S'), ('S', 'S', 'A'), ('S', 'S', 'S')}"
            ]
          },
          "metadata": {},
          "execution_count": 8
        }
      ]
    },
    {
      "cell_type": "code",
      "source": [],
      "metadata": {
        "id": "ppBcCiZr0n0a"
      },
      "execution_count": null,
      "outputs": []
    },
    {
      "cell_type": "code",
      "source": [
        "probsol=len(sol)/len(moneda)\n",
        "probsol"
      ],
      "metadata": {
        "colab": {
          "base_uri": "https://localhost:8080/"
        },
        "id": "Qyj7ODRo0TTz",
        "outputId": "96c54340-9926-423a-89c9-fc11858fbfb0"
      },
      "execution_count": null,
      "outputs": [
        {
          "output_type": "execute_result",
          "data": {
            "text/plain": [
              "0.5"
            ]
          },
          "metadata": {},
          "execution_count": 10
        }
      ]
    },
    {
      "cell_type": "code",
      "source": [
        "def indep (E,F):\n",
        "  return E,F == probsol* probabilidadfinal * p1"
      ],
      "metadata": {
        "id": "qeU0yn88md1k"
      },
      "execution_count": null,
      "outputs": []
    },
    {
      "cell_type": "code",
      "source": [
        "indep (probsol, p1)"
      ],
      "metadata": {
        "id": "uU1F14Zsm5En",
        "colab": {
          "base_uri": "https://localhost:8080/"
        },
        "outputId": "587e58c4-95a0-4de6-c674-7ceab293630f"
      },
      "execution_count": null,
      "outputs": [
        {
          "output_type": "execute_result",
          "data": {
            "text/plain": [
              "(0.5, False)"
            ]
          },
          "metadata": {},
          "execution_count": 22
        }
      ]
    },
    {
      "cell_type": "code",
      "source": [
        "indep (probsol, probabilidadfinal)"
      ],
      "metadata": {
        "colab": {
          "base_uri": "https://localhost:8080/"
        },
        "id": "B-5Tws-hdRIy",
        "outputId": "8395f4bd-2540-432e-d88e-84db35142b4a"
      },
      "execution_count": null,
      "outputs": [
        {
          "output_type": "execute_result",
          "data": {
            "text/plain": [
              "(0.5, False)"
            ]
          },
          "metadata": {},
          "execution_count": 23
        }
      ]
    },
    {
      "cell_type": "markdown",
      "source": [
        "# 3. ALICIA Y KARLA LANZAN DOS DADOS\n",
        "SI LA SUMA DA PAR ALICIA GANA LA CANTIDAD MAXIMA QUE DEN EL NUMERO DE CARAS, KARLAQ PIERDE LA CANTIDAD MÍNIMA DE LAS CARAS"
      ],
      "metadata": {
        "id": "_J4W9j2KBLsW"
      }
    },
    {
      "cell_type": "code",
      "source": [
        "ome = set(product([1,2,3,4,5,6],repeat = 2))\n",
        "ome"
      ],
      "metadata": {
        "colab": {
          "base_uri": "https://localhost:8080/"
        },
        "id": "17oT4boPBWjp",
        "outputId": "a6900e69-2823-4a02-a793-61d56864c60e"
      },
      "execution_count": null,
      "outputs": [
        {
          "output_type": "execute_result",
          "data": {
            "text/plain": [
              "{(1, 1),\n",
              " (1, 2),\n",
              " (1, 3),\n",
              " (1, 4),\n",
              " (1, 5),\n",
              " (1, 6),\n",
              " (2, 1),\n",
              " (2, 2),\n",
              " (2, 3),\n",
              " (2, 4),\n",
              " (2, 5),\n",
              " (2, 6),\n",
              " (3, 1),\n",
              " (3, 2),\n",
              " (3, 3),\n",
              " (3, 4),\n",
              " (3, 5),\n",
              " (3, 6),\n",
              " (4, 1),\n",
              " (4, 2),\n",
              " (4, 3),\n",
              " (4, 4),\n",
              " (4, 5),\n",
              " (4, 6),\n",
              " (5, 1),\n",
              " (5, 2),\n",
              " (5, 3),\n",
              " (5, 4),\n",
              " (5, 5),\n",
              " (5, 6),\n",
              " (6, 1),\n",
              " (6, 2),\n",
              " (6, 3),\n",
              " (6, 4),\n",
              " (6, 5),\n",
              " (6, 6)}"
            ]
          },
          "metadata": {},
          "execution_count": 80
        }
      ]
    },
    {
      "cell_type": "code",
      "source": [
        "S= {om for om in ome if (om[0] + om[1])%2==0}\n",
        "S"
      ],
      "metadata": {
        "colab": {
          "base_uri": "https://localhost:8080/"
        },
        "id": "xf-egmTmDRmb",
        "outputId": "cdd8f5d8-f1d3-4116-b835-2d1666e42309"
      },
      "execution_count": null,
      "outputs": [
        {
          "output_type": "execute_result",
          "data": {
            "text/plain": [
              "{(1, 1),\n",
              " (1, 3),\n",
              " (1, 5),\n",
              " (2, 2),\n",
              " (2, 4),\n",
              " (2, 6),\n",
              " (3, 1),\n",
              " (3, 3),\n",
              " (3, 5),\n",
              " (4, 2),\n",
              " (4, 4),\n",
              " (4, 6),\n",
              " (5, 1),\n",
              " (5, 3),\n",
              " (5, 5),\n",
              " (6, 2),\n",
              " (6, 4),\n",
              " (6, 6)}"
            ]
          },
          "metadata": {},
          "execution_count": 37
        }
      ]
    },
    {
      "cell_type": "code",
      "source": [
        "#ganancia alicia\n",
        "alicia={max(a) for a in S }\n",
        "print(alicia)\n",
        "print(len(S))"
      ],
      "metadata": {
        "colab": {
          "base_uri": "https://localhost:8080/"
        },
        "id": "8G2sMPXCEqj4",
        "outputId": "dd5047a4-471a-4aff-bda8-b1d7173b2ece"
      },
      "execution_count": null,
      "outputs": [
        {
          "output_type": "stream",
          "name": "stdout",
          "text": [
            "{1, 2, 3, 4, 5, 6}\n",
            "18\n"
          ]
        }
      ]
    },
    {
      "cell_type": "code",
      "source": [
        "#EL EVENTO S NOS DICE LA DISTRIBUCIÓN DE LA SUMA DE LOS DADOS ES PAR, A GANA LA CANTIDAD MAX QUE SALE EN LAS CARAS Y K PIERDE LA CANTIDAD MIN QUE SALE EN LAS CARAS. \n",
        "\n",
        "L=[1,2,3,4,5,6]\n",
        "P=[x for x in L if x%2==0]\n",
        "P"
      ],
      "metadata": {
        "colab": {
          "base_uri": "https://localhost:8080/"
        },
        "id": "DERBoP1SB2Wn",
        "outputId": "acbe428a-a0a3-41ba-d1c3-89fba02685a4"
      },
      "execution_count": null,
      "outputs": [
        {
          "output_type": "execute_result",
          "data": {
            "text/plain": [
              "[2, 4, 6]"
            ]
          },
          "metadata": {},
          "execution_count": 29
        }
      ]
    },
    {
      "cell_type": "markdown",
      "source": [
        "ALICIA GANA 1 PESO: (1,1)---- P(GANE UN PESO)= 1/18\n",
        "\n"
      ],
      "metadata": {
        "id": "Mth2oswHFCXd"
      }
    },
    {
      "cell_type": "markdown",
      "source": [
        "ALICIA GANA 2 PESOS:\n",
        "(2,2) ----P(GANE DOS PESOS) = 1/18"
      ],
      "metadata": {
        "id": "iVmn06DmGN2P"
      }
    },
    {
      "cell_type": "markdown",
      "source": [
        "ALICIA GANA 3 PESOS:\n",
        "(1,3), (3,1), (3,3)  ----P(GANE 3 PESOS) = 3/18"
      ],
      "metadata": {
        "id": "q0cioHroHFub"
      }
    },
    {
      "cell_type": "markdown",
      "source": [
        "ALICIA GANA 4 PESOS:\n",
        "(2,4), (4,2), (4,4),  ----P(GANE 4 PESOS) = 3/18"
      ],
      "metadata": {
        "id": "Ikj1GR_SHX-G"
      }
    },
    {
      "cell_type": "markdown",
      "source": [
        "ALICIA GANA 5 PESOS:\n",
        "(1,5), (5,1), (3,5), (5,3), (5,5) ----P(GANE 5 PESOS) = 5/18"
      ],
      "metadata": {
        "id": "PZY7glXvIu9T"
      }
    },
    {
      "cell_type": "markdown",
      "source": [
        "ALICIA GANA 6 PESOS:\n",
        "(2,6), (2,6), (4,6), (6,4), (6,6) ----P(GANE 6 PESOS) = 5/18"
      ],
      "metadata": {
        "id": "tPji57FcJRRA"
      }
    },
    {
      "cell_type": "code",
      "source": [
        "gana1=1/18\n",
        "gana1"
      ],
      "metadata": {
        "colab": {
          "base_uri": "https://localhost:8080/"
        },
        "id": "8IK7mkvOcRZX",
        "outputId": "fb1ca09c-985b-46c6-a751-e01318a79f32"
      },
      "execution_count": null,
      "outputs": [
        {
          "output_type": "execute_result",
          "data": {
            "text/plain": [
              "0.05555555555555555"
            ]
          },
          "metadata": {},
          "execution_count": 58
        }
      ]
    },
    {
      "cell_type": "code",
      "source": [
        "gana2=1/18\n",
        "gana2"
      ],
      "metadata": {
        "colab": {
          "base_uri": "https://localhost:8080/"
        },
        "id": "CyiWjD4LdpI0",
        "outputId": "00b7a503-8086-4b49-cc2c-289531a05516"
      },
      "execution_count": null,
      "outputs": [
        {
          "output_type": "execute_result",
          "data": {
            "text/plain": [
              "0.05555555555555555"
            ]
          },
          "metadata": {},
          "execution_count": 59
        }
      ]
    },
    {
      "cell_type": "code",
      "source": [
        "gana3=3/18\n",
        "gana3"
      ],
      "metadata": {
        "colab": {
          "base_uri": "https://localhost:8080/"
        },
        "id": "RxzxlgWPduGV",
        "outputId": "bf64c863-88c3-4c7b-d7a0-0b6466346c0c"
      },
      "execution_count": null,
      "outputs": [
        {
          "output_type": "execute_result",
          "data": {
            "text/plain": [
              "0.16666666666666666"
            ]
          },
          "metadata": {},
          "execution_count": 60
        }
      ]
    },
    {
      "cell_type": "code",
      "source": [
        "gana4=3/18\n",
        "gana4"
      ],
      "metadata": {
        "colab": {
          "base_uri": "https://localhost:8080/"
        },
        "id": "HK_22-LFdv_W",
        "outputId": "b7dbd807-b038-4e2f-d9fc-07fa15b893c3"
      },
      "execution_count": null,
      "outputs": [
        {
          "output_type": "execute_result",
          "data": {
            "text/plain": [
              "0.16666666666666666"
            ]
          },
          "metadata": {},
          "execution_count": 61
        }
      ]
    },
    {
      "cell_type": "code",
      "source": [
        "gana5=5/18\n",
        "gana5"
      ],
      "metadata": {
        "colab": {
          "base_uri": "https://localhost:8080/"
        },
        "id": "DxeIYu8zd19D",
        "outputId": "c6c5ab81-eb7e-40a2-e3f8-405a2c99fb2b"
      },
      "execution_count": null,
      "outputs": [
        {
          "output_type": "execute_result",
          "data": {
            "text/plain": [
              "0.2777777777777778"
            ]
          },
          "metadata": {},
          "execution_count": 65
        }
      ]
    },
    {
      "cell_type": "code",
      "source": [
        "gana6=5/18\n",
        "gana6"
      ],
      "metadata": {
        "colab": {
          "base_uri": "https://localhost:8080/"
        },
        "id": "7qCTZj-ld4zx",
        "outputId": "3ffb5e52-c626-4550-c847-c1b81462c308"
      },
      "execution_count": null,
      "outputs": [
        {
          "output_type": "execute_result",
          "data": {
            "text/plain": [
              "0.2777777777777778"
            ]
          },
          "metadata": {},
          "execution_count": 66
        }
      ]
    },
    {
      "cell_type": "code",
      "source": [
        "karla={min(k) for k in S }\n",
        "print(karla)"
      ],
      "metadata": {
        "colab": {
          "base_uri": "https://localhost:8080/"
        },
        "id": "xuAos3goedGo",
        "outputId": "35e3814d-b95b-4915-a0c0-674e3c6c3159"
      },
      "execution_count": null,
      "outputs": [
        {
          "output_type": "stream",
          "name": "stdout",
          "text": [
            "{1, 2, 3, 4, 5, 6}\n"
          ]
        }
      ]
    },
    {
      "cell_type": "markdown",
      "source": [
        "PIERDE 1 PESO: (1,1),(1,3),(3,1),(1,5),(5,1)---- P(PIERDE UN PESO)= 5/18\n",
        "PIERDE 2 PESOS: (2,2),(2,4),(2,6),(4,2),(6,2), ---- P(PIERDE DOS PESO)= 5/18\n",
        "PIERDE 3 PESOS: (3,3),(1,3),(3,1),(3,5),(5,3), ---- P(PIERDE DOS PESO)= 5/18\n",
        "PIERDE 4 PESOS: (4,4),(2,4),(4,2),(6,4),(4,6)---- P(PIERDE UN PESO)= 5/18\n",
        "PIERDE 5 PESOS: (5,5),(5,3),(3,5),(1,5),(5,1), ---- P(PIERDE DOS PESO)= 5/18\n",
        "PIERDE 6 PESOS: (6,6),(2,6),(6,2),(6,4),(4,6, ---- P(PIERDE DOS PESO)= 5/18\n"
      ],
      "metadata": {
        "id": "leEQc-dLeJ5b"
      }
    },
    {
      "cell_type": "code",
      "source": [
        "pierde1=5/18\n",
        "pierde1"
      ],
      "metadata": {
        "colab": {
          "base_uri": "https://localhost:8080/"
        },
        "id": "HOzNHfTrfplE",
        "outputId": "ec2fc78b-c438-442c-fd0c-c87e62dc6485"
      },
      "execution_count": null,
      "outputs": [
        {
          "output_type": "execute_result",
          "data": {
            "text/plain": [
              "0.2777777777777778"
            ]
          },
          "metadata": {},
          "execution_count": 67
        }
      ]
    },
    {
      "cell_type": "code",
      "source": [
        "pierde2=5/18\n",
        "pierde2"
      ],
      "metadata": {
        "colab": {
          "base_uri": "https://localhost:8080/"
        },
        "id": "qv_A3ZtjhZqM",
        "outputId": "d9253006-7879-485f-ed99-b959882d0b88"
      },
      "execution_count": null,
      "outputs": [
        {
          "output_type": "execute_result",
          "data": {
            "text/plain": [
              "0.2777777777777778"
            ]
          },
          "metadata": {},
          "execution_count": 68
        }
      ]
    },
    {
      "cell_type": "code",
      "source": [
        "pierde3=5/18\n",
        "pierde3"
      ],
      "metadata": {
        "colab": {
          "base_uri": "https://localhost:8080/"
        },
        "id": "XTmpvVmChdq5",
        "outputId": "147fac0f-d103-45d1-fdbd-e265a50f1d8a"
      },
      "execution_count": null,
      "outputs": [
        {
          "output_type": "execute_result",
          "data": {
            "text/plain": [
              "0.2777777777777778"
            ]
          },
          "metadata": {},
          "execution_count": 69
        }
      ]
    },
    {
      "cell_type": "code",
      "source": [
        "pierde4=5/18\n",
        "pierde4"
      ],
      "metadata": {
        "colab": {
          "base_uri": "https://localhost:8080/"
        },
        "id": "L7xEgNTrhhjS",
        "outputId": "6a1e509d-b8e5-4bad-e65e-f8c9bd04fa94"
      },
      "execution_count": null,
      "outputs": [
        {
          "output_type": "execute_result",
          "data": {
            "text/plain": [
              "0.2777777777777778"
            ]
          },
          "metadata": {},
          "execution_count": 70
        }
      ]
    },
    {
      "cell_type": "code",
      "source": [
        "pierde5=5/18\n",
        "pierde5"
      ],
      "metadata": {
        "colab": {
          "base_uri": "https://localhost:8080/"
        },
        "id": "98eRmTvThjAK",
        "outputId": "d5236ac8-9bdd-410d-fb56-962139a918cc"
      },
      "execution_count": null,
      "outputs": [
        {
          "output_type": "execute_result",
          "data": {
            "text/plain": [
              "0.2777777777777778"
            ]
          },
          "metadata": {},
          "execution_count": 71
        }
      ]
    },
    {
      "cell_type": "code",
      "source": [
        "pierde6=5/18\n",
        "pierde6"
      ],
      "metadata": {
        "colab": {
          "base_uri": "https://localhost:8080/"
        },
        "id": "iP0PrpHShloa",
        "outputId": "f7e75fcf-00ff-4d6e-e99b-4915dd07519c"
      },
      "execution_count": null,
      "outputs": [
        {
          "output_type": "execute_result",
          "data": {
            "text/plain": [
              "0.2777777777777778"
            ]
          },
          "metadata": {},
          "execution_count": 72
        }
      ]
    },
    {
      "cell_type": "markdown",
      "source": [
        "#SI LA SUMA DE LOS DADOS ES ES IMPAR KARLA GANA 5 PESOS Y ALICIA PIERDE 3 PESOS\n",
        "MULTIPLICAS LA PROBABILIDAD (50%) POR LA CANTIDAD QUE VA A GANAR $5. ES UN PROMEDIO, EJEMPLO DE ROCIO, TIENE EL 80% DE SACAR 10, 0.8*10= 8, ES EL PROMEDIO DE LO QUE SACARÍA\n",
        "p(gana5)=0.5 * 5 \n"
      ],
      "metadata": {
        "id": "cJz911IQKdXx"
      }
    },
    {
      "cell_type": "markdown",
      "source": [
        "SI LA SUMA DE LOS DADOS ES ES IMPAR K GANA 5 PESOS Y A PIERDE 3 PESOS "
      ],
      "metadata": {
        "id": "HozShgYJcKjK"
      }
    },
    {
      "cell_type": "code",
      "source": [],
      "metadata": {
        "id": "IpzekO_Df4ze"
      },
      "execution_count": null,
      "outputs": []
    },
    {
      "cell_type": "code",
      "source": [
        "I= {om for om in Omega if (om[0] + om[1])%2==1}\n",
        "I"
      ],
      "metadata": {
        "colab": {
          "base_uri": "https://localhost:8080/"
        },
        "id": "OCucqB9qEakk",
        "outputId": "07ee9ff2-34bc-4c37-bfc8-638c49c5216e"
      },
      "execution_count": null,
      "outputs": [
        {
          "output_type": "execute_result",
          "data": {
            "text/plain": [
              "{(1, 2),\n",
              " (1, 4),\n",
              " (1, 6),\n",
              " (2, 1),\n",
              " (2, 3),\n",
              " (2, 5),\n",
              " (3, 2),\n",
              " (3, 4),\n",
              " (3, 6),\n",
              " (4, 1),\n",
              " (4, 3),\n",
              " (4, 5),\n",
              " (5, 2),\n",
              " (5, 4),\n",
              " (5, 6),\n",
              " (6, 1),\n",
              " (6, 3),\n",
              " (6, 5)}"
            ]
          },
          "metadata": {},
          "execution_count": 78
        }
      ]
    },
    {
      "cell_type": "code",
      "source": [
        "karlagana5=len(I)/len(ome)\n",
        "karlagana5"
      ],
      "metadata": {
        "colab": {
          "base_uri": "https://localhost:8080/"
        },
        "id": "-sM1KkCVJg9e",
        "outputId": "c8a1b3db-ae6d-47cc-d638-e6e30709cae5"
      },
      "execution_count": null,
      "outputs": [
        {
          "output_type": "execute_result",
          "data": {
            "text/plain": [
              "0.5"
            ]
          },
          "metadata": {},
          "execution_count": 81
        }
      ]
    },
    {
      "cell_type": "code",
      "source": [
        "aliciapierde3=len(I)/len(ome)\n",
        "aliciapierde3"
      ],
      "metadata": {
        "id": "e-EhX5FgitFG"
      },
      "execution_count": null,
      "outputs": []
    },
    {
      "cell_type": "markdown",
      "source": [
        "#4. ESCRIBE EN UN DF LA DISTRIBUCIÓN ASOCIADA A LA SUMA QUE SE OBTIENE DE LANZAR 3 DADOS"
      ],
      "metadata": {
        "id": "zqkxaYzdwTI0"
      }
    },
    {
      "cell_type": "code",
      "source": [
        "OM = set(product([1,2,3,4,5,6],repeat = 3))\n",
        "OM\n",
        "suma3= {om for om in OM if (om[0] + om[1]+ om[2])==3 }\n",
        "suma4= {om for om in OM if (om[0] + om[1]+ om[2])==4 }\n",
        "suma5= {om for om in OM if (om[0] + om[1]+ om[2])==5 }\n",
        "suma6= {om for om in OM if (om[0] + om[1]+ om[2])==6 }\n",
        "suma7= {om for om in OM if (om[0] + om[1]+ om[2])==7 }\n",
        "suma8= {om for om in OM if (om[0] + om[1]+ om[2])==8 }\n",
        "suma9= {om for om in OM if (om[0] + om[1]+ om[2])==9 }\n",
        "suma10= {om for om in OM if (om[0] + om[1]+ om[2])==10 }\n",
        "suma11= {om for om in OM if (om[0] + om[1]+ om[2])==11 }\n",
        "suma12= {om for om in OM if (om[0] + om[1]+ om[2])==12 }\n",
        "suma13= {om for om in OM if (om[0] + om[1]+ om[2])==13 }\n",
        "suma14= {om for om in OM if (om[0] + om[1]+ om[2])==14}\n",
        "suma15= {om for om in OM if (om[0] + om[1]+ om[2])==15 }\n",
        "suma16= {om for om in OM if (om[0] + om[1]+ om[2])==16 }\n",
        "suma17= {om for om in OM if (om[0] + om[1]+ om[2])==17 }\n",
        "suma18= {om for om in OM if (om[0] + om[1]+ om[2])==18 }\n",
        "diccionario={\"SUMA DE 3\": [suma3],\n",
        "             \"SUMA DE 4\": [suma4],\n",
        "             \"SUMA DE 5\": [suma5],\n",
        "             \"SUMA DE 6\": [suma6],\n",
        "             \"SUMA DE 7\": [suma7],\n",
        "             \"SUMA DE 8\": [suma8],\n",
        "             \"SUMA DE 9\": [suma9],\n",
        "             \"SUMA DE 10\": [suma10],\n",
        "             \"SUMA DE 11\": [suma11],\n",
        "             \"SUMA DE 12\": [suma12],\n",
        "             \"SUMA DE 13\": [suma13],\n",
        "             \"SUMA DE 14\": [suma14],\n",
        "             \"SUMA DE 15\": [suma15],\n",
        "             \"SUMA DE 16\": [suma16],\n",
        "             \"SUMA DE 17\": [suma17],\n",
        "             \"SUMA DE 18\": [suma18]}\n",
        "import pandas as pd \n",
        "indix=[\"COMBINACIONES QUE DAN ESE RESULTADO\"]\n",
        "dfdicc = pd.DataFrame(diccionario, index= indix)\n",
        "dfdicc\n"
      ],
      "metadata": {
        "colab": {
          "base_uri": "https://localhost:8080/",
          "height": 229
        },
        "id": "3RbBIIj6vve_",
        "outputId": "916fede9-80cf-400d-8245-034bdc229321"
      },
      "execution_count": null,
      "outputs": [
        {
          "output_type": "execute_result",
          "data": {
            "text/plain": [
              "                                       SUMA DE 3  \\\n",
              "COMBINACIONES QUE DAN ESE RESULTADO  {(1, 1, 1)}   \n",
              "\n",
              "                                                             SUMA DE 4  \\\n",
              "COMBINACIONES QUE DAN ESE RESULTADO  {(1, 2, 1), (2, 1, 1), (1, 1, 2)}   \n",
              "\n",
              "                                                                             SUMA DE 5  \\\n",
              "COMBINACIONES QUE DAN ESE RESULTADO  {(3, 1, 1), (1, 2, 2), (2, 2, 1), (1, 1, 3), (...   \n",
              "\n",
              "                                                                             SUMA DE 6  \\\n",
              "COMBINACIONES QUE DAN ESE RESULTADO  {(2, 2, 2), (3, 1, 2), (1, 3, 2), (3, 2, 1), (...   \n",
              "\n",
              "                                                                             SUMA DE 7  \\\n",
              "COMBINACIONES QUE DAN ESE RESULTADO  {(2, 3, 2), (2, 1, 4), (5, 1, 1), (4, 2, 1), (...   \n",
              "\n",
              "                                                                             SUMA DE 8  \\\n",
              "COMBINACIONES QUE DAN ESE RESULTADO  {(4, 2, 2), (2, 2, 4), (1, 1, 6), (1, 5, 2), (...   \n",
              "\n",
              "                                                                             SUMA DE 9  \\\n",
              "COMBINACIONES QUE DAN ESE RESULTADO  {(1, 5, 3), (2, 2, 5), (4, 4, 1), (1, 4, 4), (...   \n",
              "\n",
              "                                                                            SUMA DE 10  \\\n",
              "COMBINACIONES QUE DAN ESE RESULTADO  {(2, 3, 5), (1, 4, 5), (4, 3, 3), (5, 1, 4), (...   \n",
              "\n",
              "                                                                            SUMA DE 11  \\\n",
              "COMBINACIONES QUE DAN ESE RESULTADO  {(4, 3, 4), (2, 3, 6), (5, 5, 1), (5, 1, 5), (...   \n",
              "\n",
              "                                                                            SUMA DE 12  \\\n",
              "COMBINACIONES QUE DAN ESE RESULTADO  {(3, 4, 5), (5, 3, 4), (3, 5, 4), (4, 3, 5), (...   \n",
              "\n",
              "                                                                            SUMA DE 13  \\\n",
              "COMBINACIONES QUE DAN ESE RESULTADO  {(5, 6, 2), (5, 2, 6), (3, 4, 6), (6, 3, 4), (...   \n",
              "\n",
              "                                                                            SUMA DE 14  \\\n",
              "COMBINACIONES QUE DAN ESE RESULTADO  {(4, 4, 6), (5, 4, 5), (5, 6, 3), (3, 6, 5), (...   \n",
              "\n",
              "                                                                            SUMA DE 15  \\\n",
              "COMBINACIONES QUE DAN ESE RESULTADO  {(6, 6, 3), (6, 4, 5), (4, 6, 5), (5, 6, 4), (...   \n",
              "\n",
              "                                                                            SUMA DE 16  \\\n",
              "COMBINACIONES QUE DAN ESE RESULTADO  {(5, 5, 6), (4, 6, 6), (6, 5, 5), (5, 6, 5), (...   \n",
              "\n",
              "                                                            SUMA DE 17  \\\n",
              "COMBINACIONES QUE DAN ESE RESULTADO  {(5, 6, 6), (6, 5, 6), (6, 6, 5)}   \n",
              "\n",
              "                                      SUMA DE 18  \n",
              "COMBINACIONES QUE DAN ESE RESULTADO  {(6, 6, 6)}  "
            ],
            "text/html": [
              "\n",
              "  <div id=\"df-c3ad8601-8a75-4fff-aa8c-c1f208b61897\">\n",
              "    <div class=\"colab-df-container\">\n",
              "      <div>\n",
              "<style scoped>\n",
              "    .dataframe tbody tr th:only-of-type {\n",
              "        vertical-align: middle;\n",
              "    }\n",
              "\n",
              "    .dataframe tbody tr th {\n",
              "        vertical-align: top;\n",
              "    }\n",
              "\n",
              "    .dataframe thead th {\n",
              "        text-align: right;\n",
              "    }\n",
              "</style>\n",
              "<table border=\"1\" class=\"dataframe\">\n",
              "  <thead>\n",
              "    <tr style=\"text-align: right;\">\n",
              "      <th></th>\n",
              "      <th>SUMA DE 3</th>\n",
              "      <th>SUMA DE 4</th>\n",
              "      <th>SUMA DE 5</th>\n",
              "      <th>SUMA DE 6</th>\n",
              "      <th>SUMA DE 7</th>\n",
              "      <th>SUMA DE 8</th>\n",
              "      <th>SUMA DE 9</th>\n",
              "      <th>SUMA DE 10</th>\n",
              "      <th>SUMA DE 11</th>\n",
              "      <th>SUMA DE 12</th>\n",
              "      <th>SUMA DE 13</th>\n",
              "      <th>SUMA DE 14</th>\n",
              "      <th>SUMA DE 15</th>\n",
              "      <th>SUMA DE 16</th>\n",
              "      <th>SUMA DE 17</th>\n",
              "      <th>SUMA DE 18</th>\n",
              "    </tr>\n",
              "  </thead>\n",
              "  <tbody>\n",
              "    <tr>\n",
              "      <th>COMBINACIONES QUE DAN ESE RESULTADO</th>\n",
              "      <td>{(1, 1, 1)}</td>\n",
              "      <td>{(1, 2, 1), (2, 1, 1), (1, 1, 2)}</td>\n",
              "      <td>{(3, 1, 1), (1, 2, 2), (2, 2, 1), (1, 1, 3), (...</td>\n",
              "      <td>{(2, 2, 2), (3, 1, 2), (1, 3, 2), (3, 2, 1), (...</td>\n",
              "      <td>{(2, 3, 2), (2, 1, 4), (5, 1, 1), (4, 2, 1), (...</td>\n",
              "      <td>{(4, 2, 2), (2, 2, 4), (1, 1, 6), (1, 5, 2), (...</td>\n",
              "      <td>{(1, 5, 3), (2, 2, 5), (4, 4, 1), (1, 4, 4), (...</td>\n",
              "      <td>{(2, 3, 5), (1, 4, 5), (4, 3, 3), (5, 1, 4), (...</td>\n",
              "      <td>{(4, 3, 4), (2, 3, 6), (5, 5, 1), (5, 1, 5), (...</td>\n",
              "      <td>{(3, 4, 5), (5, 3, 4), (3, 5, 4), (4, 3, 5), (...</td>\n",
              "      <td>{(5, 6, 2), (5, 2, 6), (3, 4, 6), (6, 3, 4), (...</td>\n",
              "      <td>{(4, 4, 6), (5, 4, 5), (5, 6, 3), (3, 6, 5), (...</td>\n",
              "      <td>{(6, 6, 3), (6, 4, 5), (4, 6, 5), (5, 6, 4), (...</td>\n",
              "      <td>{(5, 5, 6), (4, 6, 6), (6, 5, 5), (5, 6, 5), (...</td>\n",
              "      <td>{(5, 6, 6), (6, 5, 6), (6, 6, 5)}</td>\n",
              "      <td>{(6, 6, 6)}</td>\n",
              "    </tr>\n",
              "  </tbody>\n",
              "</table>\n",
              "</div>\n",
              "      <button class=\"colab-df-convert\" onclick=\"convertToInteractive('df-c3ad8601-8a75-4fff-aa8c-c1f208b61897')\"\n",
              "              title=\"Convert this dataframe to an interactive table.\"\n",
              "              style=\"display:none;\">\n",
              "        \n",
              "  <svg xmlns=\"http://www.w3.org/2000/svg\" height=\"24px\"viewBox=\"0 0 24 24\"\n",
              "       width=\"24px\">\n",
              "    <path d=\"M0 0h24v24H0V0z\" fill=\"none\"/>\n",
              "    <path d=\"M18.56 5.44l.94 2.06.94-2.06 2.06-.94-2.06-.94-.94-2.06-.94 2.06-2.06.94zm-11 1L8.5 8.5l.94-2.06 2.06-.94-2.06-.94L8.5 2.5l-.94 2.06-2.06.94zm10 10l.94 2.06.94-2.06 2.06-.94-2.06-.94-.94-2.06-.94 2.06-2.06.94z\"/><path d=\"M17.41 7.96l-1.37-1.37c-.4-.4-.92-.59-1.43-.59-.52 0-1.04.2-1.43.59L10.3 9.45l-7.72 7.72c-.78.78-.78 2.05 0 2.83L4 21.41c.39.39.9.59 1.41.59.51 0 1.02-.2 1.41-.59l7.78-7.78 2.81-2.81c.8-.78.8-2.07 0-2.86zM5.41 20L4 18.59l7.72-7.72 1.47 1.35L5.41 20z\"/>\n",
              "  </svg>\n",
              "      </button>\n",
              "      \n",
              "  <style>\n",
              "    .colab-df-container {\n",
              "      display:flex;\n",
              "      flex-wrap:wrap;\n",
              "      gap: 12px;\n",
              "    }\n",
              "\n",
              "    .colab-df-convert {\n",
              "      background-color: #E8F0FE;\n",
              "      border: none;\n",
              "      border-radius: 50%;\n",
              "      cursor: pointer;\n",
              "      display: none;\n",
              "      fill: #1967D2;\n",
              "      height: 32px;\n",
              "      padding: 0 0 0 0;\n",
              "      width: 32px;\n",
              "    }\n",
              "\n",
              "    .colab-df-convert:hover {\n",
              "      background-color: #E2EBFA;\n",
              "      box-shadow: 0px 1px 2px rgba(60, 64, 67, 0.3), 0px 1px 3px 1px rgba(60, 64, 67, 0.15);\n",
              "      fill: #174EA6;\n",
              "    }\n",
              "\n",
              "    [theme=dark] .colab-df-convert {\n",
              "      background-color: #3B4455;\n",
              "      fill: #D2E3FC;\n",
              "    }\n",
              "\n",
              "    [theme=dark] .colab-df-convert:hover {\n",
              "      background-color: #434B5C;\n",
              "      box-shadow: 0px 1px 3px 1px rgba(0, 0, 0, 0.15);\n",
              "      filter: drop-shadow(0px 1px 2px rgba(0, 0, 0, 0.3));\n",
              "      fill: #FFFFFF;\n",
              "    }\n",
              "  </style>\n",
              "\n",
              "      <script>\n",
              "        const buttonEl =\n",
              "          document.querySelector('#df-c3ad8601-8a75-4fff-aa8c-c1f208b61897 button.colab-df-convert');\n",
              "        buttonEl.style.display =\n",
              "          google.colab.kernel.accessAllowed ? 'block' : 'none';\n",
              "\n",
              "        async function convertToInteractive(key) {\n",
              "          const element = document.querySelector('#df-c3ad8601-8a75-4fff-aa8c-c1f208b61897');\n",
              "          const dataTable =\n",
              "            await google.colab.kernel.invokeFunction('convertToInteractive',\n",
              "                                                     [key], {});\n",
              "          if (!dataTable) return;\n",
              "\n",
              "          const docLinkHtml = 'Like what you see? Visit the ' +\n",
              "            '<a target=\"_blank\" href=https://colab.research.google.com/notebooks/data_table.ipynb>data table notebook</a>'\n",
              "            + ' to learn more about interactive tables.';\n",
              "          element.innerHTML = '';\n",
              "          dataTable['output_type'] = 'display_data';\n",
              "          await google.colab.output.renderOutput(dataTable, element);\n",
              "          const docLink = document.createElement('div');\n",
              "          docLink.innerHTML = docLinkHtml;\n",
              "          element.appendChild(docLink);\n",
              "        }\n",
              "      </script>\n",
              "    </div>\n",
              "  </div>\n",
              "  "
            ]
          },
          "metadata": {},
          "execution_count": 56
        }
      ]
    },
    {
      "cell_type": "markdown",
      "source": [
        "#5. HAY 20 ESTUDIANTES, SE QUIERE COMPARAR HORAS DE ESTUDIO UN DÍA ANTES DEL EXAMEN CON LA CALIFICACIÓN. REGISTRA TUS DATOS EN UN DF. USANDO ALGÚN MÉTODO DE PANDAS, DA UNA DESCRIPCIÓN ESTADÍSTICA"
      ],
      "metadata": {
        "id": "BQolKYs9xb7S"
      }
    },
    {
      "cell_type": "code",
      "source": [
        "alumnos = {\"RODRIGO\": [2, 10],\n",
        "           \"AMELIA\": [2.5, 7.5],\n",
        "           \"ROSA\": [1, 6],\n",
        "           \"ALEXIA\": [3,9.5],\n",
        "           \"MARIANA\": [3, 8.5],\n",
        "           \"MANUEL\": [4, 10],\n",
        "           \"DAVID\": [0.5, 5],\n",
        "           \"SOFÍA\": [1, 7],\n",
        "           \"ANDREA\": [4,9],\n",
        "           \"FERNANDA\": [5, 9.5],\n",
        "           \"CARLOS\": [4.5, 9],\n",
        "           \"LORENA\": [2, 8.5],\n",
        "           \"JESSICA\": [3, 9],\n",
        "           \"SAMUEL\": [3.5,8],\n",
        "           \"JOANNA\": [1, 7],\n",
        "           \"LUIS\": [2.5, 10],\n",
        "           \"EMILIA\": [5, 10],\n",
        "           \"ALEJANDRO\": [5.5, 10],\n",
        "           \"LEONARDO\": [3,9],\n",
        "           \"KARLA\": [4, 8.5]}"
      ],
      "metadata": {
        "id": "WTJ4stg2x0ga"
      },
      "execution_count": null,
      "outputs": []
    },
    {
      "cell_type": "code",
      "source": [
        "import pandas as pd \n",
        "indice=[\"Horas de estudio\",\"Calificación\"]\n",
        "dfalumnos = pd.DataFrame(alumnos, index= indice)\n",
        "dfalumnos"
      ],
      "metadata": {
        "colab": {
          "base_uri": "https://localhost:8080/",
          "height": 193
        },
        "id": "d6mCBTiWzzrc",
        "outputId": "91635971-1186-4371-80cd-90e70a08faa2"
      },
      "execution_count": null,
      "outputs": [
        {
          "output_type": "execute_result",
          "data": {
            "text/plain": [
              "                  RODRIGO  AMELIA  ROSA  ALEXIA  MARIANA  MANUEL  DAVID  \\\n",
              "Horas de estudio        2     2.5     1     3.0      3.0       4    0.5   \n",
              "Calificación           10     7.5     6     9.5      8.5      10    5.0   \n",
              "\n",
              "                  SOFÍA  ANDREA  FERNANDA  CARLOS  LORENA  JESSICA  SAMUEL  \\\n",
              "Horas de estudio      1       4       5.0     4.5     2.0        3     3.5   \n",
              "Calificación          7       9       9.5     9.0     8.5        9     8.0   \n",
              "\n",
              "                  JOANNA  LUIS  EMILIA  ALEJANDRO  LEONARDO  KARLA  \n",
              "Horas de estudio       1   2.5       5        5.5         3    4.0  \n",
              "Calificación           7  10.0      10       10.0         9    8.5  "
            ],
            "text/html": [
              "\n",
              "  <div id=\"df-3fd72447-f061-4bde-9daf-dcd496a44ecc\">\n",
              "    <div class=\"colab-df-container\">\n",
              "      <div>\n",
              "<style scoped>\n",
              "    .dataframe tbody tr th:only-of-type {\n",
              "        vertical-align: middle;\n",
              "    }\n",
              "\n",
              "    .dataframe tbody tr th {\n",
              "        vertical-align: top;\n",
              "    }\n",
              "\n",
              "    .dataframe thead th {\n",
              "        text-align: right;\n",
              "    }\n",
              "</style>\n",
              "<table border=\"1\" class=\"dataframe\">\n",
              "  <thead>\n",
              "    <tr style=\"text-align: right;\">\n",
              "      <th></th>\n",
              "      <th>RODRIGO</th>\n",
              "      <th>AMELIA</th>\n",
              "      <th>ROSA</th>\n",
              "      <th>ALEXIA</th>\n",
              "      <th>MARIANA</th>\n",
              "      <th>MANUEL</th>\n",
              "      <th>DAVID</th>\n",
              "      <th>SOFÍA</th>\n",
              "      <th>ANDREA</th>\n",
              "      <th>FERNANDA</th>\n",
              "      <th>CARLOS</th>\n",
              "      <th>LORENA</th>\n",
              "      <th>JESSICA</th>\n",
              "      <th>SAMUEL</th>\n",
              "      <th>JOANNA</th>\n",
              "      <th>LUIS</th>\n",
              "      <th>EMILIA</th>\n",
              "      <th>ALEJANDRO</th>\n",
              "      <th>LEONARDO</th>\n",
              "      <th>KARLA</th>\n",
              "    </tr>\n",
              "  </thead>\n",
              "  <tbody>\n",
              "    <tr>\n",
              "      <th>Horas de estudio</th>\n",
              "      <td>2</td>\n",
              "      <td>2.5</td>\n",
              "      <td>1</td>\n",
              "      <td>3.0</td>\n",
              "      <td>3.0</td>\n",
              "      <td>4</td>\n",
              "      <td>0.5</td>\n",
              "      <td>1</td>\n",
              "      <td>4</td>\n",
              "      <td>5.0</td>\n",
              "      <td>4.5</td>\n",
              "      <td>2.0</td>\n",
              "      <td>3</td>\n",
              "      <td>3.5</td>\n",
              "      <td>1</td>\n",
              "      <td>2.5</td>\n",
              "      <td>5</td>\n",
              "      <td>5.5</td>\n",
              "      <td>3</td>\n",
              "      <td>4.0</td>\n",
              "    </tr>\n",
              "    <tr>\n",
              "      <th>Calificación</th>\n",
              "      <td>10</td>\n",
              "      <td>7.5</td>\n",
              "      <td>6</td>\n",
              "      <td>9.5</td>\n",
              "      <td>8.5</td>\n",
              "      <td>10</td>\n",
              "      <td>5.0</td>\n",
              "      <td>7</td>\n",
              "      <td>9</td>\n",
              "      <td>9.5</td>\n",
              "      <td>9.0</td>\n",
              "      <td>8.5</td>\n",
              "      <td>9</td>\n",
              "      <td>8.0</td>\n",
              "      <td>7</td>\n",
              "      <td>10.0</td>\n",
              "      <td>10</td>\n",
              "      <td>10.0</td>\n",
              "      <td>9</td>\n",
              "      <td>8.5</td>\n",
              "    </tr>\n",
              "  </tbody>\n",
              "</table>\n",
              "</div>\n",
              "      <button class=\"colab-df-convert\" onclick=\"convertToInteractive('df-3fd72447-f061-4bde-9daf-dcd496a44ecc')\"\n",
              "              title=\"Convert this dataframe to an interactive table.\"\n",
              "              style=\"display:none;\">\n",
              "        \n",
              "  <svg xmlns=\"http://www.w3.org/2000/svg\" height=\"24px\"viewBox=\"0 0 24 24\"\n",
              "       width=\"24px\">\n",
              "    <path d=\"M0 0h24v24H0V0z\" fill=\"none\"/>\n",
              "    <path d=\"M18.56 5.44l.94 2.06.94-2.06 2.06-.94-2.06-.94-.94-2.06-.94 2.06-2.06.94zm-11 1L8.5 8.5l.94-2.06 2.06-.94-2.06-.94L8.5 2.5l-.94 2.06-2.06.94zm10 10l.94 2.06.94-2.06 2.06-.94-2.06-.94-.94-2.06-.94 2.06-2.06.94z\"/><path d=\"M17.41 7.96l-1.37-1.37c-.4-.4-.92-.59-1.43-.59-.52 0-1.04.2-1.43.59L10.3 9.45l-7.72 7.72c-.78.78-.78 2.05 0 2.83L4 21.41c.39.39.9.59 1.41.59.51 0 1.02-.2 1.41-.59l7.78-7.78 2.81-2.81c.8-.78.8-2.07 0-2.86zM5.41 20L4 18.59l7.72-7.72 1.47 1.35L5.41 20z\"/>\n",
              "  </svg>\n",
              "      </button>\n",
              "      \n",
              "  <style>\n",
              "    .colab-df-container {\n",
              "      display:flex;\n",
              "      flex-wrap:wrap;\n",
              "      gap: 12px;\n",
              "    }\n",
              "\n",
              "    .colab-df-convert {\n",
              "      background-color: #E8F0FE;\n",
              "      border: none;\n",
              "      border-radius: 50%;\n",
              "      cursor: pointer;\n",
              "      display: none;\n",
              "      fill: #1967D2;\n",
              "      height: 32px;\n",
              "      padding: 0 0 0 0;\n",
              "      width: 32px;\n",
              "    }\n",
              "\n",
              "    .colab-df-convert:hover {\n",
              "      background-color: #E2EBFA;\n",
              "      box-shadow: 0px 1px 2px rgba(60, 64, 67, 0.3), 0px 1px 3px 1px rgba(60, 64, 67, 0.15);\n",
              "      fill: #174EA6;\n",
              "    }\n",
              "\n",
              "    [theme=dark] .colab-df-convert {\n",
              "      background-color: #3B4455;\n",
              "      fill: #D2E3FC;\n",
              "    }\n",
              "\n",
              "    [theme=dark] .colab-df-convert:hover {\n",
              "      background-color: #434B5C;\n",
              "      box-shadow: 0px 1px 3px 1px rgba(0, 0, 0, 0.15);\n",
              "      filter: drop-shadow(0px 1px 2px rgba(0, 0, 0, 0.3));\n",
              "      fill: #FFFFFF;\n",
              "    }\n",
              "  </style>\n",
              "\n",
              "      <script>\n",
              "        const buttonEl =\n",
              "          document.querySelector('#df-3fd72447-f061-4bde-9daf-dcd496a44ecc button.colab-df-convert');\n",
              "        buttonEl.style.display =\n",
              "          google.colab.kernel.accessAllowed ? 'block' : 'none';\n",
              "\n",
              "        async function convertToInteractive(key) {\n",
              "          const element = document.querySelector('#df-3fd72447-f061-4bde-9daf-dcd496a44ecc');\n",
              "          const dataTable =\n",
              "            await google.colab.kernel.invokeFunction('convertToInteractive',\n",
              "                                                     [key], {});\n",
              "          if (!dataTable) return;\n",
              "\n",
              "          const docLinkHtml = 'Like what you see? Visit the ' +\n",
              "            '<a target=\"_blank\" href=https://colab.research.google.com/notebooks/data_table.ipynb>data table notebook</a>'\n",
              "            + ' to learn more about interactive tables.';\n",
              "          element.innerHTML = '';\n",
              "          dataTable['output_type'] = 'display_data';\n",
              "          await google.colab.output.renderOutput(dataTable, element);\n",
              "          const docLink = document.createElement('div');\n",
              "          docLink.innerHTML = docLinkHtml;\n",
              "          element.appendChild(docLink);\n",
              "        }\n",
              "      </script>\n",
              "    </div>\n",
              "  </div>\n",
              "  "
            ]
          },
          "metadata": {},
          "execution_count": 15
        }
      ]
    },
    {
      "cell_type": "code",
      "source": [
        "dfalumnos.describe()"
      ],
      "metadata": {
        "colab": {
          "base_uri": "https://localhost:8080/",
          "height": 364
        },
        "id": "qu58qXFu0ZID",
        "outputId": "e54db21a-4dc4-4f60-c7c7-9aee7cc56a87"
      },
      "execution_count": null,
      "outputs": [
        {
          "output_type": "execute_result",
          "data": {
            "text/plain": [
              "         RODRIGO    AMELIA      ROSA    ALEXIA   MARIANA     MANUEL     DAVID  \\\n",
              "count   2.000000  2.000000  2.000000  2.000000  2.000000   2.000000  2.000000   \n",
              "mean    6.000000  5.000000  3.500000  6.250000  5.750000   7.000000  2.750000   \n",
              "std     5.656854  3.535534  3.535534  4.596194  3.889087   4.242641  3.181981   \n",
              "min     2.000000  2.500000  1.000000  3.000000  3.000000   4.000000  0.500000   \n",
              "25%     4.000000  3.750000  2.250000  4.625000  4.375000   5.500000  1.625000   \n",
              "50%     6.000000  5.000000  3.500000  6.250000  5.750000   7.000000  2.750000   \n",
              "75%     8.000000  6.250000  4.750000  7.875000  7.125000   8.500000  3.875000   \n",
              "max    10.000000  7.500000  6.000000  9.500000  8.500000  10.000000  5.000000   \n",
              "\n",
              "          SOFÍA    ANDREA  FERNANDA    CARLOS    LORENA   JESSICA    SAMUEL  \\\n",
              "count  2.000000  2.000000  2.000000  2.000000  2.000000  2.000000  2.000000   \n",
              "mean   4.000000  6.500000  7.250000  6.750000  5.250000  6.000000  5.750000   \n",
              "std    4.242641  3.535534  3.181981  3.181981  4.596194  4.242641  3.181981   \n",
              "min    1.000000  4.000000  5.000000  4.500000  2.000000  3.000000  3.500000   \n",
              "25%    2.500000  5.250000  6.125000  5.625000  3.625000  4.500000  4.625000   \n",
              "50%    4.000000  6.500000  7.250000  6.750000  5.250000  6.000000  5.750000   \n",
              "75%    5.500000  7.750000  8.375000  7.875000  6.875000  7.500000  6.875000   \n",
              "max    7.000000  9.000000  9.500000  9.000000  8.500000  9.000000  8.000000   \n",
              "\n",
              "         JOANNA       LUIS     EMILIA  ALEJANDRO  LEONARDO     KARLA  \n",
              "count  2.000000   2.000000   2.000000   2.000000  2.000000  2.000000  \n",
              "mean   4.000000   6.250000   7.500000   7.750000  6.000000  6.250000  \n",
              "std    4.242641   5.303301   3.535534   3.181981  4.242641  3.181981  \n",
              "min    1.000000   2.500000   5.000000   5.500000  3.000000  4.000000  \n",
              "25%    2.500000   4.375000   6.250000   6.625000  4.500000  5.125000  \n",
              "50%    4.000000   6.250000   7.500000   7.750000  6.000000  6.250000  \n",
              "75%    5.500000   8.125000   8.750000   8.875000  7.500000  7.375000  \n",
              "max    7.000000  10.000000  10.000000  10.000000  9.000000  8.500000  "
            ],
            "text/html": [
              "\n",
              "  <div id=\"df-3b77c945-9af9-4e4f-b017-2a9438630cec\">\n",
              "    <div class=\"colab-df-container\">\n",
              "      <div>\n",
              "<style scoped>\n",
              "    .dataframe tbody tr th:only-of-type {\n",
              "        vertical-align: middle;\n",
              "    }\n",
              "\n",
              "    .dataframe tbody tr th {\n",
              "        vertical-align: top;\n",
              "    }\n",
              "\n",
              "    .dataframe thead th {\n",
              "        text-align: right;\n",
              "    }\n",
              "</style>\n",
              "<table border=\"1\" class=\"dataframe\">\n",
              "  <thead>\n",
              "    <tr style=\"text-align: right;\">\n",
              "      <th></th>\n",
              "      <th>RODRIGO</th>\n",
              "      <th>AMELIA</th>\n",
              "      <th>ROSA</th>\n",
              "      <th>ALEXIA</th>\n",
              "      <th>MARIANA</th>\n",
              "      <th>MANUEL</th>\n",
              "      <th>DAVID</th>\n",
              "      <th>SOFÍA</th>\n",
              "      <th>ANDREA</th>\n",
              "      <th>FERNANDA</th>\n",
              "      <th>CARLOS</th>\n",
              "      <th>LORENA</th>\n",
              "      <th>JESSICA</th>\n",
              "      <th>SAMUEL</th>\n",
              "      <th>JOANNA</th>\n",
              "      <th>LUIS</th>\n",
              "      <th>EMILIA</th>\n",
              "      <th>ALEJANDRO</th>\n",
              "      <th>LEONARDO</th>\n",
              "      <th>KARLA</th>\n",
              "    </tr>\n",
              "  </thead>\n",
              "  <tbody>\n",
              "    <tr>\n",
              "      <th>count</th>\n",
              "      <td>2.000000</td>\n",
              "      <td>2.000000</td>\n",
              "      <td>2.000000</td>\n",
              "      <td>2.000000</td>\n",
              "      <td>2.000000</td>\n",
              "      <td>2.000000</td>\n",
              "      <td>2.000000</td>\n",
              "      <td>2.000000</td>\n",
              "      <td>2.000000</td>\n",
              "      <td>2.000000</td>\n",
              "      <td>2.000000</td>\n",
              "      <td>2.000000</td>\n",
              "      <td>2.000000</td>\n",
              "      <td>2.000000</td>\n",
              "      <td>2.000000</td>\n",
              "      <td>2.000000</td>\n",
              "      <td>2.000000</td>\n",
              "      <td>2.000000</td>\n",
              "      <td>2.000000</td>\n",
              "      <td>2.000000</td>\n",
              "    </tr>\n",
              "    <tr>\n",
              "      <th>mean</th>\n",
              "      <td>6.000000</td>\n",
              "      <td>5.000000</td>\n",
              "      <td>3.500000</td>\n",
              "      <td>6.250000</td>\n",
              "      <td>5.750000</td>\n",
              "      <td>7.000000</td>\n",
              "      <td>2.750000</td>\n",
              "      <td>4.000000</td>\n",
              "      <td>6.500000</td>\n",
              "      <td>7.250000</td>\n",
              "      <td>6.750000</td>\n",
              "      <td>5.250000</td>\n",
              "      <td>6.000000</td>\n",
              "      <td>5.750000</td>\n",
              "      <td>4.000000</td>\n",
              "      <td>6.250000</td>\n",
              "      <td>7.500000</td>\n",
              "      <td>7.750000</td>\n",
              "      <td>6.000000</td>\n",
              "      <td>6.250000</td>\n",
              "    </tr>\n",
              "    <tr>\n",
              "      <th>std</th>\n",
              "      <td>5.656854</td>\n",
              "      <td>3.535534</td>\n",
              "      <td>3.535534</td>\n",
              "      <td>4.596194</td>\n",
              "      <td>3.889087</td>\n",
              "      <td>4.242641</td>\n",
              "      <td>3.181981</td>\n",
              "      <td>4.242641</td>\n",
              "      <td>3.535534</td>\n",
              "      <td>3.181981</td>\n",
              "      <td>3.181981</td>\n",
              "      <td>4.596194</td>\n",
              "      <td>4.242641</td>\n",
              "      <td>3.181981</td>\n",
              "      <td>4.242641</td>\n",
              "      <td>5.303301</td>\n",
              "      <td>3.535534</td>\n",
              "      <td>3.181981</td>\n",
              "      <td>4.242641</td>\n",
              "      <td>3.181981</td>\n",
              "    </tr>\n",
              "    <tr>\n",
              "      <th>min</th>\n",
              "      <td>2.000000</td>\n",
              "      <td>2.500000</td>\n",
              "      <td>1.000000</td>\n",
              "      <td>3.000000</td>\n",
              "      <td>3.000000</td>\n",
              "      <td>4.000000</td>\n",
              "      <td>0.500000</td>\n",
              "      <td>1.000000</td>\n",
              "      <td>4.000000</td>\n",
              "      <td>5.000000</td>\n",
              "      <td>4.500000</td>\n",
              "      <td>2.000000</td>\n",
              "      <td>3.000000</td>\n",
              "      <td>3.500000</td>\n",
              "      <td>1.000000</td>\n",
              "      <td>2.500000</td>\n",
              "      <td>5.000000</td>\n",
              "      <td>5.500000</td>\n",
              "      <td>3.000000</td>\n",
              "      <td>4.000000</td>\n",
              "    </tr>\n",
              "    <tr>\n",
              "      <th>25%</th>\n",
              "      <td>4.000000</td>\n",
              "      <td>3.750000</td>\n",
              "      <td>2.250000</td>\n",
              "      <td>4.625000</td>\n",
              "      <td>4.375000</td>\n",
              "      <td>5.500000</td>\n",
              "      <td>1.625000</td>\n",
              "      <td>2.500000</td>\n",
              "      <td>5.250000</td>\n",
              "      <td>6.125000</td>\n",
              "      <td>5.625000</td>\n",
              "      <td>3.625000</td>\n",
              "      <td>4.500000</td>\n",
              "      <td>4.625000</td>\n",
              "      <td>2.500000</td>\n",
              "      <td>4.375000</td>\n",
              "      <td>6.250000</td>\n",
              "      <td>6.625000</td>\n",
              "      <td>4.500000</td>\n",
              "      <td>5.125000</td>\n",
              "    </tr>\n",
              "    <tr>\n",
              "      <th>50%</th>\n",
              "      <td>6.000000</td>\n",
              "      <td>5.000000</td>\n",
              "      <td>3.500000</td>\n",
              "      <td>6.250000</td>\n",
              "      <td>5.750000</td>\n",
              "      <td>7.000000</td>\n",
              "      <td>2.750000</td>\n",
              "      <td>4.000000</td>\n",
              "      <td>6.500000</td>\n",
              "      <td>7.250000</td>\n",
              "      <td>6.750000</td>\n",
              "      <td>5.250000</td>\n",
              "      <td>6.000000</td>\n",
              "      <td>5.750000</td>\n",
              "      <td>4.000000</td>\n",
              "      <td>6.250000</td>\n",
              "      <td>7.500000</td>\n",
              "      <td>7.750000</td>\n",
              "      <td>6.000000</td>\n",
              "      <td>6.250000</td>\n",
              "    </tr>\n",
              "    <tr>\n",
              "      <th>75%</th>\n",
              "      <td>8.000000</td>\n",
              "      <td>6.250000</td>\n",
              "      <td>4.750000</td>\n",
              "      <td>7.875000</td>\n",
              "      <td>7.125000</td>\n",
              "      <td>8.500000</td>\n",
              "      <td>3.875000</td>\n",
              "      <td>5.500000</td>\n",
              "      <td>7.750000</td>\n",
              "      <td>8.375000</td>\n",
              "      <td>7.875000</td>\n",
              "      <td>6.875000</td>\n",
              "      <td>7.500000</td>\n",
              "      <td>6.875000</td>\n",
              "      <td>5.500000</td>\n",
              "      <td>8.125000</td>\n",
              "      <td>8.750000</td>\n",
              "      <td>8.875000</td>\n",
              "      <td>7.500000</td>\n",
              "      <td>7.375000</td>\n",
              "    </tr>\n",
              "    <tr>\n",
              "      <th>max</th>\n",
              "      <td>10.000000</td>\n",
              "      <td>7.500000</td>\n",
              "      <td>6.000000</td>\n",
              "      <td>9.500000</td>\n",
              "      <td>8.500000</td>\n",
              "      <td>10.000000</td>\n",
              "      <td>5.000000</td>\n",
              "      <td>7.000000</td>\n",
              "      <td>9.000000</td>\n",
              "      <td>9.500000</td>\n",
              "      <td>9.000000</td>\n",
              "      <td>8.500000</td>\n",
              "      <td>9.000000</td>\n",
              "      <td>8.000000</td>\n",
              "      <td>7.000000</td>\n",
              "      <td>10.000000</td>\n",
              "      <td>10.000000</td>\n",
              "      <td>10.000000</td>\n",
              "      <td>9.000000</td>\n",
              "      <td>8.500000</td>\n",
              "    </tr>\n",
              "  </tbody>\n",
              "</table>\n",
              "</div>\n",
              "      <button class=\"colab-df-convert\" onclick=\"convertToInteractive('df-3b77c945-9af9-4e4f-b017-2a9438630cec')\"\n",
              "              title=\"Convert this dataframe to an interactive table.\"\n",
              "              style=\"display:none;\">\n",
              "        \n",
              "  <svg xmlns=\"http://www.w3.org/2000/svg\" height=\"24px\"viewBox=\"0 0 24 24\"\n",
              "       width=\"24px\">\n",
              "    <path d=\"M0 0h24v24H0V0z\" fill=\"none\"/>\n",
              "    <path d=\"M18.56 5.44l.94 2.06.94-2.06 2.06-.94-2.06-.94-.94-2.06-.94 2.06-2.06.94zm-11 1L8.5 8.5l.94-2.06 2.06-.94-2.06-.94L8.5 2.5l-.94 2.06-2.06.94zm10 10l.94 2.06.94-2.06 2.06-.94-2.06-.94-.94-2.06-.94 2.06-2.06.94z\"/><path d=\"M17.41 7.96l-1.37-1.37c-.4-.4-.92-.59-1.43-.59-.52 0-1.04.2-1.43.59L10.3 9.45l-7.72 7.72c-.78.78-.78 2.05 0 2.83L4 21.41c.39.39.9.59 1.41.59.51 0 1.02-.2 1.41-.59l7.78-7.78 2.81-2.81c.8-.78.8-2.07 0-2.86zM5.41 20L4 18.59l7.72-7.72 1.47 1.35L5.41 20z\"/>\n",
              "  </svg>\n",
              "      </button>\n",
              "      \n",
              "  <style>\n",
              "    .colab-df-container {\n",
              "      display:flex;\n",
              "      flex-wrap:wrap;\n",
              "      gap: 12px;\n",
              "    }\n",
              "\n",
              "    .colab-df-convert {\n",
              "      background-color: #E8F0FE;\n",
              "      border: none;\n",
              "      border-radius: 50%;\n",
              "      cursor: pointer;\n",
              "      display: none;\n",
              "      fill: #1967D2;\n",
              "      height: 32px;\n",
              "      padding: 0 0 0 0;\n",
              "      width: 32px;\n",
              "    }\n",
              "\n",
              "    .colab-df-convert:hover {\n",
              "      background-color: #E2EBFA;\n",
              "      box-shadow: 0px 1px 2px rgba(60, 64, 67, 0.3), 0px 1px 3px 1px rgba(60, 64, 67, 0.15);\n",
              "      fill: #174EA6;\n",
              "    }\n",
              "\n",
              "    [theme=dark] .colab-df-convert {\n",
              "      background-color: #3B4455;\n",
              "      fill: #D2E3FC;\n",
              "    }\n",
              "\n",
              "    [theme=dark] .colab-df-convert:hover {\n",
              "      background-color: #434B5C;\n",
              "      box-shadow: 0px 1px 3px 1px rgba(0, 0, 0, 0.15);\n",
              "      filter: drop-shadow(0px 1px 2px rgba(0, 0, 0, 0.3));\n",
              "      fill: #FFFFFF;\n",
              "    }\n",
              "  </style>\n",
              "\n",
              "      <script>\n",
              "        const buttonEl =\n",
              "          document.querySelector('#df-3b77c945-9af9-4e4f-b017-2a9438630cec button.colab-df-convert');\n",
              "        buttonEl.style.display =\n",
              "          google.colab.kernel.accessAllowed ? 'block' : 'none';\n",
              "\n",
              "        async function convertToInteractive(key) {\n",
              "          const element = document.querySelector('#df-3b77c945-9af9-4e4f-b017-2a9438630cec');\n",
              "          const dataTable =\n",
              "            await google.colab.kernel.invokeFunction('convertToInteractive',\n",
              "                                                     [key], {});\n",
              "          if (!dataTable) return;\n",
              "\n",
              "          const docLinkHtml = 'Like what you see? Visit the ' +\n",
              "            '<a target=\"_blank\" href=https://colab.research.google.com/notebooks/data_table.ipynb>data table notebook</a>'\n",
              "            + ' to learn more about interactive tables.';\n",
              "          element.innerHTML = '';\n",
              "          dataTable['output_type'] = 'display_data';\n",
              "          await google.colab.output.renderOutput(dataTable, element);\n",
              "          const docLink = document.createElement('div');\n",
              "          docLink.innerHTML = docLinkHtml;\n",
              "          element.appendChild(docLink);\n",
              "        }\n",
              "      </script>\n",
              "    </div>\n",
              "  </div>\n",
              "  "
            ]
          },
          "metadata": {},
          "execution_count": 90
        }
      ]
    },
    {
      "cell_type": "code",
      "source": [
        "promediohorasestudio=dfalumnos.iloc[0].mean()\n",
        "promediohorasestudio"
      ],
      "metadata": {
        "colab": {
          "base_uri": "https://localhost:8080/"
        },
        "id": "HmDuAJ63yxPK",
        "outputId": "fe310daa-8830-467a-d53c-ac3caa87da47"
      },
      "execution_count": null,
      "outputs": [
        {
          "output_type": "execute_result",
          "data": {
            "text/plain": [
              "3.0"
            ]
          },
          "metadata": {},
          "execution_count": 96
        }
      ]
    },
    {
      "cell_type": "code",
      "source": [
        "df=dfalumnos.iloc[0]\n",
        "df"
      ],
      "metadata": {
        "colab": {
          "base_uri": "https://localhost:8080/"
        },
        "id": "qC-O654lzNgr",
        "outputId": "3419bd12-205c-41f8-e504-300f8dd3d468"
      },
      "execution_count": null,
      "outputs": [
        {
          "output_type": "execute_result",
          "data": {
            "text/plain": [
              "RODRIGO      2.0\n",
              "AMELIA       2.5\n",
              "ROSA         1.0\n",
              "ALEXIA       3.0\n",
              "MARIANA      3.0\n",
              "MANUEL       4.0\n",
              "DAVID        0.5\n",
              "SOFÍA        1.0\n",
              "ANDREA       4.0\n",
              "FERNANDA     5.0\n",
              "CARLOS       4.5\n",
              "LORENA       2.0\n",
              "JESSICA      3.0\n",
              "SAMUEL       3.5\n",
              "JOANNA       1.0\n",
              "LUIS         2.5\n",
              "EMILIA       5.0\n",
              "ALEJANDRO    5.5\n",
              "LEONARDO     3.0\n",
              "KARLA        4.0\n",
              "Name: Horas de estudio, dtype: float64"
            ]
          },
          "metadata": {},
          "execution_count": 99
        }
      ]
    },
    {
      "cell_type": "code",
      "source": [
        "import seaborn as sns \n",
        "sns.displot(df);"
      ],
      "metadata": {
        "colab": {
          "base_uri": "https://localhost:8080/",
          "height": 369
        },
        "id": "IRvcITrYyoTy",
        "outputId": "e1fdbf62-00f9-47c9-8d84-085b45ad44b3"
      },
      "execution_count": null,
      "outputs": [
        {
          "output_type": "display_data",
          "data": {
            "text/plain": [
              "<Figure size 360x360 with 1 Axes>"
            ],
            "image/png": "[encoded data removed]"
          },
          "metadata": {
            "needs_background": "light"
          }
        }
      ]
    }
  ]
}