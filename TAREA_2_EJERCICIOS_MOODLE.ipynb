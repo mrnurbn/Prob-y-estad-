{
  "nbformat": 4,
  "nbformat_minor": 0,
  "metadata": {
    "colab": {
      "provenance": []
    },
    "kernelspec": {
      "name": "python3",
      "display_name": "Python 3"
    },
    "language_info": {
      "name": "python"
    }
  },
  "cells": [
    {
      "cell_type": "markdown",
      "source": [
        "MARIANA URBINA LÓPEZ\n",
        "# EJERCICIOS MOODLE. TAREA 2"
      ],
      "metadata": {
        "id": "TX-9LBOHgghk"
      }
    },
    {
      "cell_type": "markdown",
      "source": [
        "1. LANZAS UNA MONEDA JUSTA TRES VECES\n",
        "- ¿CUAL ES LA PROBABILIDAD DE QUE OBSERVES EXACTAMENTE UNA CARA?"
      ],
      "metadata": {
        "id": "mNUT7GdmgqC7"
      }
    },
    {
      "cell_type": "code",
      "execution_count": null,
      "metadata": {
        "id": "45XOEKFWgZS2",
        "colab": {
          "base_uri": "https://localhost:8080/"
        },
        "outputId": "3509e3bd-1802-45f2-95cd-cf05839181f1"
      },
      "outputs": [
        {
          "output_type": "execute_result",
          "data": {
            "text/plain": [
              "{('H', 'H', 'H'),\n",
              " ('H', 'H', 'T'),\n",
              " ('H', 'T', 'H'),\n",
              " ('H', 'T', 'T'),\n",
              " ('T', 'H', 'H'),\n",
              " ('T', 'H', 'T'),\n",
              " ('T', 'T', 'H'),\n",
              " ('T', 'T', 'T')}"
            ]
          },
          "metadata": {},
          "execution_count": 45
        }
      ],
      "source": [
        "from itertools import product\n",
        "OMEGA = set (product([\"H\", \"T\"], repeat= 3))\n",
        "OMEGA"
      ]
    },
    {
      "cell_type": "code",
      "source": [
        "S= {omega for omega in OMEGA if omega.count(\"H\")==1}\n",
        "S"
      ],
      "metadata": {
        "colab": {
          "base_uri": "https://localhost:8080/"
        },
        "id": "yZnYrfcWjLgz",
        "outputId": "49f7fcb1-72ab-477b-a3e3-b571253d3f53"
      },
      "execution_count": null,
      "outputs": [
        {
          "output_type": "execute_result",
          "data": {
            "text/plain": [
              "{('H', 'T', 'T'), ('T', 'H', 'T'), ('T', 'T', 'H')}"
            ]
          },
          "metadata": {},
          "execution_count": 47
        }
      ]
    },
    {
      "cell_type": "code",
      "source": [
        "p1= len (S) / len (OMEGA)\n",
        "p1"
      ],
      "metadata": {
        "colab": {
          "base_uri": "https://localhost:8080/"
        },
        "id": "LUYCdgNjkI5t",
        "outputId": "54edfd8c-f1c5-46c3-c154-a1ff2f27f927"
      },
      "execution_count": null,
      "outputs": [
        {
          "output_type": "execute_result",
          "data": {
            "text/plain": [
              "0.375"
            ]
          },
          "metadata": {},
          "execution_count": 48
        }
      ]
    },
    {
      "cell_type": "markdown",
      "source": [
        "- DADO QUE HAS OBSERVADO AL MENOS UNA CARA ¿CUÁL ES LA PROBABILIDAD DE QUE OBSERVES AL MENOS DOS CARAS?"
      ],
      "metadata": {
        "id": "sTrFtSbZg1PK"
      }
    },
    {
      "cell_type": "code",
      "source": [
        "T={omega for omega in OMEGA if omega [0]==\"H\"}\n",
        "T"
      ],
      "metadata": {
        "colab": {
          "base_uri": "https://localhost:8080/"
        },
        "id": "_al75qVekQVg",
        "outputId": "0b53d150-a999-4ca6-b175-b9ac7c79f8b9"
      },
      "execution_count": null,
      "outputs": [
        {
          "output_type": "execute_result",
          "data": {
            "text/plain": [
              "{('H', 'H', 'H'), ('H', 'H', 'T'), ('H', 'T', 'H'), ('H', 'T', 'T')}"
            ]
          },
          "metadata": {},
          "execution_count": 68
        }
      ]
    },
    {
      "cell_type": "code",
      "source": [
        "U= {omega for omega in OMEGA if omega.count(\"H\")==2}\n",
        "U"
      ],
      "metadata": {
        "colab": {
          "base_uri": "https://localhost:8080/"
        },
        "id": "AarEeySWstj6",
        "outputId": "b2b96e01-3b11-49db-ed59-4bf6d6c062f8"
      },
      "execution_count": null,
      "outputs": [
        {
          "output_type": "execute_result",
          "data": {
            "text/plain": [
              "{('H', 'H', 'T'), ('H', 'T', 'H'), ('T', 'H', 'H')}"
            ]
          },
          "metadata": {},
          "execution_count": 70
        }
      ]
    },
    {
      "cell_type": "code",
      "source": [
        "A = T.intersection(U)\n",
        "A"
      ],
      "metadata": {
        "colab": {
          "base_uri": "https://localhost:8080/"
        },
        "id": "lbAYcN_IkV4P",
        "outputId": "caaf3bc2-1923-4fb3-868c-0bad30af17aa"
      },
      "execution_count": null,
      "outputs": [
        {
          "output_type": "execute_result",
          "data": {
            "text/plain": [
              "{('H', 'H', 'T'), ('H', 'T', 'H')}"
            ]
          },
          "metadata": {},
          "execution_count": 78
        }
      ]
    },
    {
      "cell_type": "code",
      "source": [
        "p2=len(A.intersection(U))/len(U)\n",
        "p2"
      ],
      "metadata": {
        "colab": {
          "base_uri": "https://localhost:8080/"
        },
        "id": "veEQkRTuldz5",
        "outputId": "95e6e0f2-601b-405d-cf3f-b8db50ee8d85"
      },
      "execution_count": null,
      "outputs": [
        {
          "output_type": "execute_result",
          "data": {
            "text/plain": [
              "0.6666666666666666"
            ]
          },
          "metadata": {},
          "execution_count": 82
        }
      ]
    },
    {
      "cell_type": "markdown",
      "source": [
        "2. − Para tres eventos A, B and C, sabemos que\n",
        "A y C son independientes,\n",
        "B y C son independientes,\n",
        "A y B are disjuntos,\n",
        "P(A ∪ C) = 2/3, P(B ∪ C) = 3/4, P(A ∪ B ∪ C) = 11/12.\n",
        "Encuentra P(A), P(B), and P(C)."
      ],
      "metadata": {
        "id": "4V49vvOcztU8"
      }
    },
    {
      "cell_type": "code",
      "source": [
        "P(A ∪ B ∪ C) = 11/12\n",
        "P (B ∪ C) = 9/12 = (3/4)\n",
        "P (A ∪ C) = 8/12 = (2/3)\n",
        "\n",
        "P(A)= P(A ∪ B ∪ C) - P ((B ∪ C)\n",
        "P(A)=11/12 - 9/12 = 2/12 = 1/6\n",
        "P(A)= 1/6\n",
        "\n",
        "P(C) = P (A ∪ C) - P(A)\n",
        "P(C) = 8/12 - 2/12 = 6/12 = 1/2\n",
        "P(C) = 1/2\n",
        "\n",
        "P(B)= P (B ∪ C)  - P(C)\n",
        "P(B)= 9/12 - 6/12 = 3/12 = 1/4\n",
        "P(B)= 1/4\n"
      ],
      "metadata": {
        "id": "6g60Xonuz8mn"
      },
      "execution_count": null,
      "outputs": []
    },
    {
      "cell_type": "markdown",
      "source": [
        "3. En la CDMX llueve la tercera parte de los dias. Dado que llueve, habra mucho trafico con una probabilidad de 1/2 y dado que no llueve, habra mucho trafico con una probabilidad de 1/4. Si llueve y hay mucho trafico, llego tarde al trabajo con una probabilidad de 1/2. Por otro lado, la probabilidad de llegat tarde se reduce a 1/8 si no llueve y no hay mucho trafico. En otras situaciones (lluvia y sin trafico, sin lluvia y trafico) la probabilidad de llegar tarde es de 0.25. Elige un dia al azar. \n",
        "Cual es la probabilidad de que no llueva y haya mucho trafico y no llegue tarde?\n",
        "Cual es la probabilidad de que llegue tarde?\n",
        "Dado que llegue tarde al trabajo, cual es la probabilidad de que lloviera ese dia?"
      ],
      "metadata": {
        "id": "xA308PN_wnjr"
      }
    },
    {
      "cell_type": "code",
      "source": [
        "from matplotlib_venn import venn2, venn2_circles, venn2_unweighted\n",
        "from matplotlib_venn import venn3, venn3_circles\n",
        "from matplotlib import pyplot as plt\n"
      ],
      "metadata": {
        "id": "HDpD97w7yEtS"
      },
      "execution_count": null,
      "outputs": []
    },
    {
      "cell_type": "code",
      "source": [
        "venn2(subsets = (0.33, 0.66, 0), set_labels = ('LLUEVE', 'NO LLUEVE'))"
      ],
      "metadata": {
        "colab": {
          "base_uri": "https://localhost:8080/",
          "height": 223
        },
        "id": "hwlOQ-KY5SsB",
        "outputId": "609116e7-3b5a-4d79-8063-33e0b629b6b5"
      },
      "execution_count": null,
      "outputs": [
        {
          "output_type": "execute_result",
          "data": {
            "text/plain": [
              "<matplotlib_venn._common.VennDiagram at 0x7fc51c562a10>"
            ]
          },
          "metadata": {},
          "execution_count": 92
        },
        {
          "output_type": "display_data",
          "data": {
            "text/plain": [
              "<Figure size 432x288 with 1 Axes>"
            ],
            "image/png": "[encoded data removed]"
          },
          "metadata": {}
        }
      ]
    },
    {
      "cell_type": "code",
      "source": [
        "venn3(subsets = (0.66, 0.25, 075, 0.123), set_labels = ('NO LLUEVE', 'TRAFICO', 'NO LLEGUE TARDE'), alpha = 0.5)"
      ],
      "metadata": {
        "colab": {
          "base_uri": "https://localhost:8080/",
          "height": 133
        },
        "id": "Zs-B-g4c7LYH",
        "outputId": "257af620-767e-4a3d-f661-eb014c72fa62"
      },
      "execution_count": null,
      "outputs": [
        {
          "output_type": "error",
          "ename": "SyntaxError",
          "evalue": "ignored",
          "traceback": [
            "\u001b[0;36m  File \u001b[0;32m\"<ipython-input-95-bef2baa7b109>\"\u001b[0;36m, line \u001b[0;32m1\u001b[0m\n\u001b[0;31m    venn3(subsets = (0.66, 0.25, 075, 0.123), set_labels = ('NO LLUEVE', 'TRAFICO', 'NO LLEGUE TARDE'), alpha = 0.5)\u001b[0m\n\u001b[0m                                   ^\u001b[0m\n\u001b[0;31mSyntaxError\u001b[0m\u001b[0;31m:\u001b[0m invalid token\n"
          ]
        }
      ]
    },
    {
      "cell_type": "markdown",
      "source": [
        "4. En cierto pueblo, 30% de la gente son conservadores, 50% socialistas y 20% liberales. En esta localidad en las ultimas elecciones votaron el 65% de los conservadores, el 82% de los socialistas y el 50% de los liberales. Se seleccional al azar una persona del pueblo y afirma que voto en las ultimas elecciones. Cual es la probabilidad de que sea socialista?"
      ],
      "metadata": {
        "id": "2wynunMe9F83"
      }
    },
    {
      "cell_type": "code",
      "source": [
        "c= 0.3\n",
        "s= 0.5\n",
        "l = 0.2\n",
        "cv= 0.65\n",
        "sv= 0.82\n",
        "lv= 0.5"
      ],
      "metadata": {
        "id": "EW9h8-7x9Grp"
      },
      "execution_count": null,
      "outputs": []
    },
    {
      "cell_type": "markdown",
      "source": [
        "\n"
      ],
      "metadata": {
        "id": "5sbUhy3b8QIE"
      }
    },
    {
      "cell_type": "code",
      "source": [
        "r= sv*s\n",
        "r"
      ],
      "metadata": {
        "colab": {
          "base_uri": "https://localhost:8080/"
        },
        "id": "SyXCirXj_uTo",
        "outputId": "573e2a17-49a6-4794-fac4-f563868aa4f4"
      },
      "execution_count": null,
      "outputs": [
        {
          "output_type": "execute_result",
          "data": {
            "text/plain": [
              "0.41"
            ]
          },
          "metadata": {},
          "execution_count": 3
        }
      ]
    }
  ]
}